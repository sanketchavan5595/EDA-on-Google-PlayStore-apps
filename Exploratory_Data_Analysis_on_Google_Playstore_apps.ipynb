{
  "nbformat": 4,
  "nbformat_minor": 0,
  "metadata": {
    "kernelspec": {
      "display_name": "Python 3",
      "language": "python",
      "name": "python3"
    },
    "language_info": {
      "codemirror_mode": {
        "name": "ipython",
        "version": 3
      },
      "file_extension": ".py",
      "mimetype": "text/x-python",
      "name": "python",
      "nbconvert_exporter": "python",
      "pygments_lexer": "ipython3",
      "version": "3.7.9"
    },
    "colab": {
      "name": "Exploratory Data Analysis on Google Playstore apps.ipynb",
      "provenance": [],
      "collapsed_sections": [],
      "include_colab_link": true
    }
  },
  "cells": [
    {
      "cell_type": "markdown",
      "metadata": {
        "id": "view-in-github",
        "colab_type": "text"
      },
      "source": [
        "<a href=\"https://colab.research.google.com/github/sanketchavan5595/EDA-on-Google-Playstore-apps/blob/main/Exploratory_Data_Analysis_on_Google_Playstore_apps.ipynb\" target=\"_parent\"><img src=\"https://colab.research.google.com/assets/colab-badge.svg\" alt=\"Open In Colab\"/></a>"
      ]
    },
    {
      "cell_type": "markdown",
      "metadata": {
        "id": "tmi1UCREYA54"
      },
      "source": [
        "# **EDA on Google Playstore Apps**\r\n",
        "\r\n",
        "* In this analysis, we will be exploring various apps available on Google Playstore\r\n",
        "* We will be using the pandas, numpy, matplotlib and seaborn libraries. \r\n",
        "* Cleaning and Preparation of data is done. This also involves variable indenfication, changing the dtypes of the values etc. \r\n",
        "* At the end, we will asking and answering few questions to gain more insights.\r\n",
        "\r\n",
        "You can access the dataset with the following url\r\n",
        "\r\n",
        "url = 'https://raw.githubusercontent.com/sanketchavan5595/EDA-on-Google-Playstore-apps/main/googleplaystore.csv'"
      ]
    },
    {
      "cell_type": "code",
      "metadata": {
        "id": "iAtGJwYiX3du"
      },
      "source": [
        "import pandas as pd \n",
        "import numpy as np \n",
        "import matplotlib.pyplot as plt\n",
        "import seaborn as sns \n",
        "%matplotlib inline"
      ],
      "execution_count": 81,
      "outputs": []
    },
    {
      "cell_type": "code",
      "metadata": {
        "colab": {
          "base_uri": "https://localhost:8080/",
          "height": 545
        },
        "id": "f1PERl6HX3dy",
        "outputId": "1b0027c8-bb1e-4a5d-921e-0170656fa819"
      },
      "source": [
        "url = 'https://raw.githubusercontent.com/sanketchavan5595/EDA-on-Google-Playstore-apps/main/googleplaystore.csv'\n",
        "df = pd.read_csv(url)\n",
        "df.head(10)"
      ],
      "execution_count": 82,
      "outputs": [
        {
          "output_type": "execute_result",
          "data": {
            "text/html": [
              "<div>\n",
              "<style scoped>\n",
              "    .dataframe tbody tr th:only-of-type {\n",
              "        vertical-align: middle;\n",
              "    }\n",
              "\n",
              "    .dataframe tbody tr th {\n",
              "        vertical-align: top;\n",
              "    }\n",
              "\n",
              "    .dataframe thead th {\n",
              "        text-align: right;\n",
              "    }\n",
              "</style>\n",
              "<table border=\"1\" class=\"dataframe\">\n",
              "  <thead>\n",
              "    <tr style=\"text-align: right;\">\n",
              "      <th></th>\n",
              "      <th>App</th>\n",
              "      <th>Category</th>\n",
              "      <th>Rating</th>\n",
              "      <th>Reviews</th>\n",
              "      <th>Size</th>\n",
              "      <th>Installs</th>\n",
              "      <th>Type</th>\n",
              "      <th>Price</th>\n",
              "      <th>Content Rating</th>\n",
              "      <th>Genres</th>\n",
              "      <th>Last Updated</th>\n",
              "      <th>Current Ver</th>\n",
              "      <th>Android Ver</th>\n",
              "    </tr>\n",
              "  </thead>\n",
              "  <tbody>\n",
              "    <tr>\n",
              "      <th>0</th>\n",
              "      <td>Photo Editor &amp; Candy Camera &amp; Grid &amp; ScrapBook</td>\n",
              "      <td>ART_AND_DESIGN</td>\n",
              "      <td>4.1</td>\n",
              "      <td>159</td>\n",
              "      <td>19M</td>\n",
              "      <td>10,000+</td>\n",
              "      <td>Free</td>\n",
              "      <td>0</td>\n",
              "      <td>Everyone</td>\n",
              "      <td>Art &amp; Design</td>\n",
              "      <td>January 7, 2018</td>\n",
              "      <td>1.0.0</td>\n",
              "      <td>4.0.3 and up</td>\n",
              "    </tr>\n",
              "    <tr>\n",
              "      <th>1</th>\n",
              "      <td>Coloring book moana</td>\n",
              "      <td>ART_AND_DESIGN</td>\n",
              "      <td>3.9</td>\n",
              "      <td>967</td>\n",
              "      <td>14M</td>\n",
              "      <td>500,000+</td>\n",
              "      <td>Free</td>\n",
              "      <td>0</td>\n",
              "      <td>Everyone</td>\n",
              "      <td>Art &amp; Design;Pretend Play</td>\n",
              "      <td>January 15, 2018</td>\n",
              "      <td>2.0.0</td>\n",
              "      <td>4.0.3 and up</td>\n",
              "    </tr>\n",
              "    <tr>\n",
              "      <th>2</th>\n",
              "      <td>U Launcher Lite – FREE Live Cool Themes, Hide ...</td>\n",
              "      <td>ART_AND_DESIGN</td>\n",
              "      <td>4.7</td>\n",
              "      <td>87510</td>\n",
              "      <td>8.7M</td>\n",
              "      <td>5,000,000+</td>\n",
              "      <td>Free</td>\n",
              "      <td>0</td>\n",
              "      <td>Everyone</td>\n",
              "      <td>Art &amp; Design</td>\n",
              "      <td>August 1, 2018</td>\n",
              "      <td>1.2.4</td>\n",
              "      <td>4.0.3 and up</td>\n",
              "    </tr>\n",
              "    <tr>\n",
              "      <th>3</th>\n",
              "      <td>Sketch - Draw &amp; Paint</td>\n",
              "      <td>ART_AND_DESIGN</td>\n",
              "      <td>4.5</td>\n",
              "      <td>215644</td>\n",
              "      <td>25M</td>\n",
              "      <td>50,000,000+</td>\n",
              "      <td>Free</td>\n",
              "      <td>0</td>\n",
              "      <td>Teen</td>\n",
              "      <td>Art &amp; Design</td>\n",
              "      <td>June 8, 2018</td>\n",
              "      <td>Varies with device</td>\n",
              "      <td>4.2 and up</td>\n",
              "    </tr>\n",
              "    <tr>\n",
              "      <th>4</th>\n",
              "      <td>Pixel Draw - Number Art Coloring Book</td>\n",
              "      <td>ART_AND_DESIGN</td>\n",
              "      <td>4.3</td>\n",
              "      <td>967</td>\n",
              "      <td>2.8M</td>\n",
              "      <td>100,000+</td>\n",
              "      <td>Free</td>\n",
              "      <td>0</td>\n",
              "      <td>Everyone</td>\n",
              "      <td>Art &amp; Design;Creativity</td>\n",
              "      <td>June 20, 2018</td>\n",
              "      <td>1.1</td>\n",
              "      <td>4.4 and up</td>\n",
              "    </tr>\n",
              "    <tr>\n",
              "      <th>5</th>\n",
              "      <td>Paper flowers instructions</td>\n",
              "      <td>ART_AND_DESIGN</td>\n",
              "      <td>4.4</td>\n",
              "      <td>167</td>\n",
              "      <td>5.6M</td>\n",
              "      <td>50,000+</td>\n",
              "      <td>Free</td>\n",
              "      <td>0</td>\n",
              "      <td>Everyone</td>\n",
              "      <td>Art &amp; Design</td>\n",
              "      <td>March 26, 2017</td>\n",
              "      <td>1.0</td>\n",
              "      <td>2.3 and up</td>\n",
              "    </tr>\n",
              "    <tr>\n",
              "      <th>6</th>\n",
              "      <td>Smoke Effect Photo Maker - Smoke Editor</td>\n",
              "      <td>ART_AND_DESIGN</td>\n",
              "      <td>3.8</td>\n",
              "      <td>178</td>\n",
              "      <td>19M</td>\n",
              "      <td>50,000+</td>\n",
              "      <td>Free</td>\n",
              "      <td>0</td>\n",
              "      <td>Everyone</td>\n",
              "      <td>Art &amp; Design</td>\n",
              "      <td>April 26, 2018</td>\n",
              "      <td>1.1</td>\n",
              "      <td>4.0.3 and up</td>\n",
              "    </tr>\n",
              "    <tr>\n",
              "      <th>7</th>\n",
              "      <td>Infinite Painter</td>\n",
              "      <td>ART_AND_DESIGN</td>\n",
              "      <td>4.1</td>\n",
              "      <td>36815</td>\n",
              "      <td>29M</td>\n",
              "      <td>1,000,000+</td>\n",
              "      <td>Free</td>\n",
              "      <td>0</td>\n",
              "      <td>Everyone</td>\n",
              "      <td>Art &amp; Design</td>\n",
              "      <td>June 14, 2018</td>\n",
              "      <td>6.1.61.1</td>\n",
              "      <td>4.2 and up</td>\n",
              "    </tr>\n",
              "    <tr>\n",
              "      <th>8</th>\n",
              "      <td>Garden Coloring Book</td>\n",
              "      <td>ART_AND_DESIGN</td>\n",
              "      <td>4.4</td>\n",
              "      <td>13791</td>\n",
              "      <td>33M</td>\n",
              "      <td>1,000,000+</td>\n",
              "      <td>Free</td>\n",
              "      <td>0</td>\n",
              "      <td>Everyone</td>\n",
              "      <td>Art &amp; Design</td>\n",
              "      <td>September 20, 2017</td>\n",
              "      <td>2.9.2</td>\n",
              "      <td>3.0 and up</td>\n",
              "    </tr>\n",
              "    <tr>\n",
              "      <th>9</th>\n",
              "      <td>Kids Paint Free - Drawing Fun</td>\n",
              "      <td>ART_AND_DESIGN</td>\n",
              "      <td>4.7</td>\n",
              "      <td>121</td>\n",
              "      <td>3.1M</td>\n",
              "      <td>10,000+</td>\n",
              "      <td>Free</td>\n",
              "      <td>0</td>\n",
              "      <td>Everyone</td>\n",
              "      <td>Art &amp; Design;Creativity</td>\n",
              "      <td>July 3, 2018</td>\n",
              "      <td>2.8</td>\n",
              "      <td>4.0.3 and up</td>\n",
              "    </tr>\n",
              "  </tbody>\n",
              "</table>\n",
              "</div>"
            ],
            "text/plain": [
              "                                                 App  ...   Android Ver\n",
              "0     Photo Editor & Candy Camera & Grid & ScrapBook  ...  4.0.3 and up\n",
              "1                                Coloring book moana  ...  4.0.3 and up\n",
              "2  U Launcher Lite – FREE Live Cool Themes, Hide ...  ...  4.0.3 and up\n",
              "3                              Sketch - Draw & Paint  ...    4.2 and up\n",
              "4              Pixel Draw - Number Art Coloring Book  ...    4.4 and up\n",
              "5                         Paper flowers instructions  ...    2.3 and up\n",
              "6            Smoke Effect Photo Maker - Smoke Editor  ...  4.0.3 and up\n",
              "7                                   Infinite Painter  ...    4.2 and up\n",
              "8                               Garden Coloring Book  ...    3.0 and up\n",
              "9                      Kids Paint Free - Drawing Fun  ...  4.0.3 and up\n",
              "\n",
              "[10 rows x 13 columns]"
            ]
          },
          "metadata": {
            "tags": []
          },
          "execution_count": 82
        }
      ]
    },
    {
      "cell_type": "code",
      "metadata": {
        "colab": {
          "base_uri": "https://localhost:8080/"
        },
        "id": "_law0VQhX3d0",
        "outputId": "39921634-f8a4-4543-f3ff-1e2be9e48f7e"
      },
      "source": [
        "# getting the dtype and number of null values in the data \n",
        "df.info()"
      ],
      "execution_count": 83,
      "outputs": [
        {
          "output_type": "stream",
          "text": [
            "<class 'pandas.core.frame.DataFrame'>\n",
            "RangeIndex: 10841 entries, 0 to 10840\n",
            "Data columns (total 13 columns):\n",
            " #   Column          Non-Null Count  Dtype  \n",
            "---  ------          --------------  -----  \n",
            " 0   App             10841 non-null  object \n",
            " 1   Category        10841 non-null  object \n",
            " 2   Rating          9367 non-null   float64\n",
            " 3   Reviews         10841 non-null  object \n",
            " 4   Size            10841 non-null  object \n",
            " 5   Installs        10841 non-null  object \n",
            " 6   Type            10840 non-null  object \n",
            " 7   Price           10841 non-null  object \n",
            " 8   Content Rating  10840 non-null  object \n",
            " 9   Genres          10841 non-null  object \n",
            " 10  Last Updated    10841 non-null  object \n",
            " 11  Current Ver     10833 non-null  object \n",
            " 12  Android Ver     10838 non-null  object \n",
            "dtypes: float64(1), object(12)\n",
            "memory usage: 1.1+ MB\n"
          ],
          "name": "stdout"
        }
      ]
    },
    {
      "cell_type": "code",
      "metadata": {
        "colab": {
          "base_uri": "https://localhost:8080/"
        },
        "id": "cxITzSuXX3d1",
        "outputId": "34f83a34-0129-4584-e8b5-092702812cc7"
      },
      "source": [
        "# getting the number of null values in the data \n",
        "df.isnull().sum()"
      ],
      "execution_count": 84,
      "outputs": [
        {
          "output_type": "execute_result",
          "data": {
            "text/plain": [
              "App                  0\n",
              "Category             0\n",
              "Rating            1474\n",
              "Reviews              0\n",
              "Size                 0\n",
              "Installs             0\n",
              "Type                 1\n",
              "Price                0\n",
              "Content Rating       1\n",
              "Genres               0\n",
              "Last Updated         0\n",
              "Current Ver          8\n",
              "Android Ver          3\n",
              "dtype: int64"
            ]
          },
          "metadata": {
            "tags": []
          },
          "execution_count": 84
        }
      ]
    },
    {
      "cell_type": "code",
      "metadata": {
        "scrolled": true,
        "id": "dFKRjp7PX3d1"
      },
      "source": [
        "# we will drop the null values \n",
        "df.dropna(inplace = True)"
      ],
      "execution_count": 85,
      "outputs": []
    },
    {
      "cell_type": "code",
      "metadata": {
        "id": "3I1ZO8E4TLFM"
      },
      "source": [
        "# dropping the duplicates \r\n",
        "df.drop_duplicates(subset=['App'], inplace = True)"
      ],
      "execution_count": 86,
      "outputs": []
    },
    {
      "cell_type": "code",
      "metadata": {
        "colab": {
          "base_uri": "https://localhost:8080/"
        },
        "id": "4N1ofS4pX3d1",
        "outputId": "78b466b0-e72d-4dd6-9f71-64a0635ed650"
      },
      "source": [
        "df.columns"
      ],
      "execution_count": 87,
      "outputs": [
        {
          "output_type": "execute_result",
          "data": {
            "text/plain": [
              "Index(['App', 'Category', 'Rating', 'Reviews', 'Size', 'Installs', 'Type',\n",
              "       'Price', 'Content Rating', 'Genres', 'Last Updated', 'Current Ver',\n",
              "       'Android Ver'],\n",
              "      dtype='object')"
            ]
          },
          "metadata": {
            "tags": []
          },
          "execution_count": 87
        }
      ]
    },
    {
      "cell_type": "markdown",
      "metadata": {
        "id": "pLzb_JbsX3d2"
      },
      "source": [
        "# Exploratory Analysis and Visualization"
      ]
    },
    {
      "cell_type": "markdown",
      "metadata": {
        "id": "_LiwKVEeX3d2"
      },
      "source": [
        "### Now we will do variable indentification\n",
        "\n",
        "* Categorical variables\n",
        "    * Category \n",
        "    * Type\n",
        "    * Content Rating\n",
        "    * Genres\n",
        "    * Last Updated\n",
        "\n",
        "\n",
        "* Numerical variables\n",
        "    * Rating\n",
        "    * Reviews\n",
        "    * Installs \n",
        "    * Price "
      ]
    },
    {
      "cell_type": "markdown",
      "metadata": {
        "id": "piuh640NX3d3"
      },
      "source": [
        "### let's take a look at Categorical variables "
      ]
    },
    {
      "cell_type": "markdown",
      "metadata": {
        "id": "-UszOja4X3d3"
      },
      "source": [
        "#### Category"
      ]
    },
    {
      "cell_type": "code",
      "metadata": {
        "scrolled": true,
        "colab": {
          "base_uri": "https://localhost:8080/"
        },
        "id": "3SQofmAMX3d3",
        "outputId": "9c464ac8-096a-47d7-b27a-506ecd6848c8"
      },
      "source": [
        "df.Category = df.Category.apply(lambda x: x.lower())\n",
        "df.Category.value_counts()"
      ],
      "execution_count": 88,
      "outputs": [
        {
          "output_type": "execute_result",
          "data": {
            "text/plain": [
              "family                 1607\n",
              "game                    912\n",
              "tools                   717\n",
              "finance                 302\n",
              "lifestyle               301\n",
              "productivity            301\n",
              "personalization         296\n",
              "medical                 290\n",
              "photography             263\n",
              "business                263\n",
              "sports                  260\n",
              "communication           256\n",
              "health_and_fitness      244\n",
              "news_and_magazines      204\n",
              "social                  203\n",
              "travel_and_local        187\n",
              "shopping                180\n",
              "books_and_reference     169\n",
              "video_players           148\n",
              "dating                  134\n",
              "maps_and_navigation     118\n",
              "education               118\n",
              "entertainment           102\n",
              "food_and_drink           94\n",
              "auto_and_vehicles        73\n",
              "weather                  72\n",
              "libraries_and_demo       63\n",
              "house_and_home           62\n",
              "art_and_design           60\n",
              "comics                   54\n",
              "parenting                50\n",
              "events                   45\n",
              "beauty                   42\n",
              "Name: Category, dtype: int64"
            ]
          },
          "metadata": {
            "tags": []
          },
          "execution_count": 88
        }
      ]
    },
    {
      "cell_type": "code",
      "metadata": {
        "colab": {
          "base_uri": "https://localhost:8080/",
          "height": 421
        },
        "id": "J7iqTDEqX3d3",
        "outputId": "4cd9789e-3bff-4f32-83c7-440bc55af3db"
      },
      "source": [
        "# top 10 categories\n",
        "cat = df.Category.value_counts()[:10].to_dict().keys()\n",
        "counts = df.Category.value_counts()[:10].to_dict().values()\n",
        "\n",
        "plt.figure(figsize=(5,3), dpi=100)\n",
        "plt.bar(cat, counts)\n",
        "plt.title(\"Category\")\n",
        "plt.xlabel(\"Categories\")\n",
        "plt.ylabel(\"Counts\")\n",
        "plt.xticks(rotation = 90);"
      ],
      "execution_count": 89,
      "outputs": [
        {
          "output_type": "display_data",
          "data": {
            "image/png": "[encoded data removed]",
            "text/plain": [
              "<Figure size 500x300 with 1 Axes>"
            ]
          },
          "metadata": {
            "tags": [],
            "needs_background": "light"
          }
        }
      ]
    },
    {
      "cell_type": "markdown",
      "metadata": {
        "id": "1Jl3qixlX3d4"
      },
      "source": [
        "The majority of the apps come into these three categories \n",
        "* Family \n",
        "* Game\n",
        "* Tools\n"
      ]
    },
    {
      "cell_type": "markdown",
      "metadata": {
        "id": "6j5eFPfYXiCN"
      },
      "source": [
        "\r\n",
        "\r\n",
        "---\r\n",
        "\r\n",
        "\r\n",
        "\r\n"
      ]
    },
    {
      "cell_type": "markdown",
      "metadata": {
        "id": "VTyaklgDX3d4"
      },
      "source": [
        "#### Type"
      ]
    },
    {
      "cell_type": "code",
      "metadata": {
        "colab": {
          "base_uri": "https://localhost:8080/"
        },
        "id": "D77coxmqX3d4",
        "outputId": "45f0aa88-c34c-4e0a-bdeb-87d1af3baa7d"
      },
      "source": [
        "df.Type.value_counts()"
      ],
      "execution_count": 90,
      "outputs": [
        {
          "output_type": "execute_result",
          "data": {
            "text/plain": [
              "Free    7588\n",
              "Paid     602\n",
              "Name: Type, dtype: int64"
            ]
          },
          "metadata": {
            "tags": []
          },
          "execution_count": 90
        }
      ]
    },
    {
      "cell_type": "markdown",
      "metadata": {
        "id": "QiLNm1KbX3d4"
      },
      "source": [
        "Free apps are more than the Paid apps"
      ]
    },
    {
      "cell_type": "markdown",
      "metadata": {
        "id": "yq7ZeY-gX3d4"
      },
      "source": [
        "#### Content Rating"
      ]
    },
    {
      "cell_type": "code",
      "metadata": {
        "colab": {
          "base_uri": "https://localhost:8080/",
          "height": 425
        },
        "id": "hSsHo8CdX3d5",
        "outputId": "0a47eeb9-6919-487c-cf02-5deb143c542f"
      },
      "source": [
        "df['Content Rating'].value_counts().to_dict()\n",
        "x = df['Content Rating'].value_counts().to_dict().keys()\n",
        "y = df['Content Rating'].value_counts().to_dict().values()\n",
        "\n",
        "plt.figure(figsize=(5,3), dpi=100)\n",
        "plt.title(\"Content Rating\")\n",
        "plt.bar(x, y)\n",
        "plt.xlabel('Labels')\n",
        "plt.ylabel('Values')\n",
        "plt.xticks(rotation = 90);"
      ],
      "execution_count": 91,
      "outputs": [
        {
          "output_type": "display_data",
          "data": {
            "image/png": "[encoded data removed]",
            "text/plain": [
              "<Figure size 500x300 with 1 Axes>"
            ]
          },
          "metadata": {
            "tags": [],
            "needs_background": "light"
          }
        }
      ]
    },
    {
      "cell_type": "markdown",
      "metadata": {
        "id": "u7s2jF_3X3d5"
      },
      "source": [
        "'Everyone' category has most number of apps"
      ]
    },
    {
      "cell_type": "markdown",
      "metadata": {
        "id": "lAaTmd1BXm77"
      },
      "source": [
        "\r\n",
        "\r\n",
        "---\r\n",
        "\r\n",
        "\r\n"
      ]
    },
    {
      "cell_type": "markdown",
      "metadata": {
        "id": "Ts7eCOOgX3d5"
      },
      "source": [
        "#### Genres"
      ]
    },
    {
      "cell_type": "code",
      "metadata": {
        "colab": {
          "base_uri": "https://localhost:8080/"
        },
        "id": "71XJxxE2X3d5",
        "outputId": "c527029a-681f-450d-86e9-2d2d3d45aa8e"
      },
      "source": [
        "df.Genres.value_counts()"
      ],
      "execution_count": 92,
      "outputs": [
        {
          "output_type": "execute_result",
          "data": {
            "text/plain": [
              "Tools                          716\n",
              "Entertainment                  471\n",
              "Education                      429\n",
              "Finance                        302\n",
              "Productivity                   301\n",
              "                              ... \n",
              "Music & Audio;Music & Video      1\n",
              "Strategy;Creativity              1\n",
              "Adventure;Brain Games            1\n",
              "Art & Design;Pretend Play        1\n",
              "Tools;Education                  1\n",
              "Name: Genres, Length: 114, dtype: int64"
            ]
          },
          "metadata": {
            "tags": []
          },
          "execution_count": 92
        }
      ]
    },
    {
      "cell_type": "code",
      "metadata": {
        "colab": {
          "base_uri": "https://localhost:8080/",
          "height": 445
        },
        "id": "q8xErwYkX3d6",
        "outputId": "69bf6464-e180-4e08-f674-8db35adfd7c4"
      },
      "source": [
        "# Top 10 Genres\n",
        "x = df['Genres'].value_counts()[:20].to_dict().keys()\n",
        "y = df['Genres'].value_counts()[:20].to_dict().values()\n",
        "\n",
        "plt.figure(figsize=(5,3), dpi=100)\n",
        "plt.title(\"Genres\")\n",
        "plt.bar(x,y)\n",
        "plt.xlabel('Genres')\n",
        "plt.ylabel('Counts')\n",
        "plt.xticks(rotation = 90);"
      ],
      "execution_count": 93,
      "outputs": [
        {
          "output_type": "display_data",
          "data": {
            "image/png": "[encoded data removed]",
            "text/plain": [
              "<Figure size 500x300 with 1 Axes>"
            ]
          },
          "metadata": {
            "tags": [],
            "needs_background": "light"
          }
        }
      ]
    },
    {
      "cell_type": "markdown",
      "metadata": {
        "scrolled": true,
        "id": "IH4cK8OYX3d6"
      },
      "source": [
        "The dominant genres are:\n",
        "* Tools\n",
        "* Entertainment\n",
        "* Education"
      ]
    },
    {
      "cell_type": "markdown",
      "metadata": {
        "id": "d0IEp_AZXq7Y"
      },
      "source": [
        "\r\n",
        "\r\n",
        "---\r\n",
        "\r\n"
      ]
    },
    {
      "cell_type": "markdown",
      "metadata": {
        "id": "UT9kO2MDRCpS"
      },
      "source": [
        "#### Last Updated"
      ]
    },
    {
      "cell_type": "code",
      "metadata": {
        "colab": {
          "base_uri": "https://localhost:8080/",
          "height": 1000
        },
        "id": "xucL4nz3RJp5",
        "outputId": "db8ef5e8-0d36-4788-855a-3695b9ac2a9c"
      },
      "source": [
        "year = []\r\n",
        "l = df['Last Updated'].apply(lambda x: x.split(','))\r\n",
        "for e in l:\r\n",
        "    year.append(e[-1])\r\n",
        "df['year_updated'] = year\r\n",
        "df.head(20)"
      ],
      "execution_count": 94,
      "outputs": [
        {
          "output_type": "execute_result",
          "data": {
            "text/html": [
              "<div>\n",
              "<style scoped>\n",
              "    .dataframe tbody tr th:only-of-type {\n",
              "        vertical-align: middle;\n",
              "    }\n",
              "\n",
              "    .dataframe tbody tr th {\n",
              "        vertical-align: top;\n",
              "    }\n",
              "\n",
              "    .dataframe thead th {\n",
              "        text-align: right;\n",
              "    }\n",
              "</style>\n",
              "<table border=\"1\" class=\"dataframe\">\n",
              "  <thead>\n",
              "    <tr style=\"text-align: right;\">\n",
              "      <th></th>\n",
              "      <th>App</th>\n",
              "      <th>Category</th>\n",
              "      <th>Rating</th>\n",
              "      <th>Reviews</th>\n",
              "      <th>Size</th>\n",
              "      <th>Installs</th>\n",
              "      <th>Type</th>\n",
              "      <th>Price</th>\n",
              "      <th>Content Rating</th>\n",
              "      <th>Genres</th>\n",
              "      <th>Last Updated</th>\n",
              "      <th>Current Ver</th>\n",
              "      <th>Android Ver</th>\n",
              "      <th>year_updated</th>\n",
              "    </tr>\n",
              "  </thead>\n",
              "  <tbody>\n",
              "    <tr>\n",
              "      <th>0</th>\n",
              "      <td>Photo Editor &amp; Candy Camera &amp; Grid &amp; ScrapBook</td>\n",
              "      <td>art_and_design</td>\n",
              "      <td>4.1</td>\n",
              "      <td>159</td>\n",
              "      <td>19M</td>\n",
              "      <td>10,000+</td>\n",
              "      <td>Free</td>\n",
              "      <td>0</td>\n",
              "      <td>Everyone</td>\n",
              "      <td>Art &amp; Design</td>\n",
              "      <td>January 7, 2018</td>\n",
              "      <td>1.0.0</td>\n",
              "      <td>4.0.3 and up</td>\n",
              "      <td>2018</td>\n",
              "    </tr>\n",
              "    <tr>\n",
              "      <th>1</th>\n",
              "      <td>Coloring book moana</td>\n",
              "      <td>art_and_design</td>\n",
              "      <td>3.9</td>\n",
              "      <td>967</td>\n",
              "      <td>14M</td>\n",
              "      <td>500,000+</td>\n",
              "      <td>Free</td>\n",
              "      <td>0</td>\n",
              "      <td>Everyone</td>\n",
              "      <td>Art &amp; Design;Pretend Play</td>\n",
              "      <td>January 15, 2018</td>\n",
              "      <td>2.0.0</td>\n",
              "      <td>4.0.3 and up</td>\n",
              "      <td>2018</td>\n",
              "    </tr>\n",
              "    <tr>\n",
              "      <th>2</th>\n",
              "      <td>U Launcher Lite – FREE Live Cool Themes, Hide ...</td>\n",
              "      <td>art_and_design</td>\n",
              "      <td>4.7</td>\n",
              "      <td>87510</td>\n",
              "      <td>8.7M</td>\n",
              "      <td>5,000,000+</td>\n",
              "      <td>Free</td>\n",
              "      <td>0</td>\n",
              "      <td>Everyone</td>\n",
              "      <td>Art &amp; Design</td>\n",
              "      <td>August 1, 2018</td>\n",
              "      <td>1.2.4</td>\n",
              "      <td>4.0.3 and up</td>\n",
              "      <td>2018</td>\n",
              "    </tr>\n",
              "    <tr>\n",
              "      <th>3</th>\n",
              "      <td>Sketch - Draw &amp; Paint</td>\n",
              "      <td>art_and_design</td>\n",
              "      <td>4.5</td>\n",
              "      <td>215644</td>\n",
              "      <td>25M</td>\n",
              "      <td>50,000,000+</td>\n",
              "      <td>Free</td>\n",
              "      <td>0</td>\n",
              "      <td>Teen</td>\n",
              "      <td>Art &amp; Design</td>\n",
              "      <td>June 8, 2018</td>\n",
              "      <td>Varies with device</td>\n",
              "      <td>4.2 and up</td>\n",
              "      <td>2018</td>\n",
              "    </tr>\n",
              "    <tr>\n",
              "      <th>4</th>\n",
              "      <td>Pixel Draw - Number Art Coloring Book</td>\n",
              "      <td>art_and_design</td>\n",
              "      <td>4.3</td>\n",
              "      <td>967</td>\n",
              "      <td>2.8M</td>\n",
              "      <td>100,000+</td>\n",
              "      <td>Free</td>\n",
              "      <td>0</td>\n",
              "      <td>Everyone</td>\n",
              "      <td>Art &amp; Design;Creativity</td>\n",
              "      <td>June 20, 2018</td>\n",
              "      <td>1.1</td>\n",
              "      <td>4.4 and up</td>\n",
              "      <td>2018</td>\n",
              "    </tr>\n",
              "    <tr>\n",
              "      <th>5</th>\n",
              "      <td>Paper flowers instructions</td>\n",
              "      <td>art_and_design</td>\n",
              "      <td>4.4</td>\n",
              "      <td>167</td>\n",
              "      <td>5.6M</td>\n",
              "      <td>50,000+</td>\n",
              "      <td>Free</td>\n",
              "      <td>0</td>\n",
              "      <td>Everyone</td>\n",
              "      <td>Art &amp; Design</td>\n",
              "      <td>March 26, 2017</td>\n",
              "      <td>1.0</td>\n",
              "      <td>2.3 and up</td>\n",
              "      <td>2017</td>\n",
              "    </tr>\n",
              "    <tr>\n",
              "      <th>6</th>\n",
              "      <td>Smoke Effect Photo Maker - Smoke Editor</td>\n",
              "      <td>art_and_design</td>\n",
              "      <td>3.8</td>\n",
              "      <td>178</td>\n",
              "      <td>19M</td>\n",
              "      <td>50,000+</td>\n",
              "      <td>Free</td>\n",
              "      <td>0</td>\n",
              "      <td>Everyone</td>\n",
              "      <td>Art &amp; Design</td>\n",
              "      <td>April 26, 2018</td>\n",
              "      <td>1.1</td>\n",
              "      <td>4.0.3 and up</td>\n",
              "      <td>2018</td>\n",
              "    </tr>\n",
              "    <tr>\n",
              "      <th>7</th>\n",
              "      <td>Infinite Painter</td>\n",
              "      <td>art_and_design</td>\n",
              "      <td>4.1</td>\n",
              "      <td>36815</td>\n",
              "      <td>29M</td>\n",
              "      <td>1,000,000+</td>\n",
              "      <td>Free</td>\n",
              "      <td>0</td>\n",
              "      <td>Everyone</td>\n",
              "      <td>Art &amp; Design</td>\n",
              "      <td>June 14, 2018</td>\n",
              "      <td>6.1.61.1</td>\n",
              "      <td>4.2 and up</td>\n",
              "      <td>2018</td>\n",
              "    </tr>\n",
              "    <tr>\n",
              "      <th>8</th>\n",
              "      <td>Garden Coloring Book</td>\n",
              "      <td>art_and_design</td>\n",
              "      <td>4.4</td>\n",
              "      <td>13791</td>\n",
              "      <td>33M</td>\n",
              "      <td>1,000,000+</td>\n",
              "      <td>Free</td>\n",
              "      <td>0</td>\n",
              "      <td>Everyone</td>\n",
              "      <td>Art &amp; Design</td>\n",
              "      <td>September 20, 2017</td>\n",
              "      <td>2.9.2</td>\n",
              "      <td>3.0 and up</td>\n",
              "      <td>2017</td>\n",
              "    </tr>\n",
              "    <tr>\n",
              "      <th>9</th>\n",
              "      <td>Kids Paint Free - Drawing Fun</td>\n",
              "      <td>art_and_design</td>\n",
              "      <td>4.7</td>\n",
              "      <td>121</td>\n",
              "      <td>3.1M</td>\n",
              "      <td>10,000+</td>\n",
              "      <td>Free</td>\n",
              "      <td>0</td>\n",
              "      <td>Everyone</td>\n",
              "      <td>Art &amp; Design;Creativity</td>\n",
              "      <td>July 3, 2018</td>\n",
              "      <td>2.8</td>\n",
              "      <td>4.0.3 and up</td>\n",
              "      <td>2018</td>\n",
              "    </tr>\n",
              "    <tr>\n",
              "      <th>10</th>\n",
              "      <td>Text on Photo - Fonteee</td>\n",
              "      <td>art_and_design</td>\n",
              "      <td>4.4</td>\n",
              "      <td>13880</td>\n",
              "      <td>28M</td>\n",
              "      <td>1,000,000+</td>\n",
              "      <td>Free</td>\n",
              "      <td>0</td>\n",
              "      <td>Everyone</td>\n",
              "      <td>Art &amp; Design</td>\n",
              "      <td>October 27, 2017</td>\n",
              "      <td>1.0.4</td>\n",
              "      <td>4.1 and up</td>\n",
              "      <td>2017</td>\n",
              "    </tr>\n",
              "    <tr>\n",
              "      <th>11</th>\n",
              "      <td>Name Art Photo Editor - Focus n Filters</td>\n",
              "      <td>art_and_design</td>\n",
              "      <td>4.4</td>\n",
              "      <td>8788</td>\n",
              "      <td>12M</td>\n",
              "      <td>1,000,000+</td>\n",
              "      <td>Free</td>\n",
              "      <td>0</td>\n",
              "      <td>Everyone</td>\n",
              "      <td>Art &amp; Design</td>\n",
              "      <td>July 31, 2018</td>\n",
              "      <td>1.0.15</td>\n",
              "      <td>4.0 and up</td>\n",
              "      <td>2018</td>\n",
              "    </tr>\n",
              "    <tr>\n",
              "      <th>12</th>\n",
              "      <td>Tattoo Name On My Photo Editor</td>\n",
              "      <td>art_and_design</td>\n",
              "      <td>4.2</td>\n",
              "      <td>44829</td>\n",
              "      <td>20M</td>\n",
              "      <td>10,000,000+</td>\n",
              "      <td>Free</td>\n",
              "      <td>0</td>\n",
              "      <td>Teen</td>\n",
              "      <td>Art &amp; Design</td>\n",
              "      <td>April 2, 2018</td>\n",
              "      <td>3.8</td>\n",
              "      <td>4.1 and up</td>\n",
              "      <td>2018</td>\n",
              "    </tr>\n",
              "    <tr>\n",
              "      <th>13</th>\n",
              "      <td>Mandala Coloring Book</td>\n",
              "      <td>art_and_design</td>\n",
              "      <td>4.6</td>\n",
              "      <td>4326</td>\n",
              "      <td>21M</td>\n",
              "      <td>100,000+</td>\n",
              "      <td>Free</td>\n",
              "      <td>0</td>\n",
              "      <td>Everyone</td>\n",
              "      <td>Art &amp; Design</td>\n",
              "      <td>June 26, 2018</td>\n",
              "      <td>1.0.4</td>\n",
              "      <td>4.4 and up</td>\n",
              "      <td>2018</td>\n",
              "    </tr>\n",
              "    <tr>\n",
              "      <th>14</th>\n",
              "      <td>3D Color Pixel by Number - Sandbox Art Coloring</td>\n",
              "      <td>art_and_design</td>\n",
              "      <td>4.4</td>\n",
              "      <td>1518</td>\n",
              "      <td>37M</td>\n",
              "      <td>100,000+</td>\n",
              "      <td>Free</td>\n",
              "      <td>0</td>\n",
              "      <td>Everyone</td>\n",
              "      <td>Art &amp; Design</td>\n",
              "      <td>August 3, 2018</td>\n",
              "      <td>1.2.3</td>\n",
              "      <td>2.3 and up</td>\n",
              "      <td>2018</td>\n",
              "    </tr>\n",
              "    <tr>\n",
              "      <th>16</th>\n",
              "      <td>Photo Designer - Write your name with shapes</td>\n",
              "      <td>art_and_design</td>\n",
              "      <td>4.7</td>\n",
              "      <td>3632</td>\n",
              "      <td>5.5M</td>\n",
              "      <td>500,000+</td>\n",
              "      <td>Free</td>\n",
              "      <td>0</td>\n",
              "      <td>Everyone</td>\n",
              "      <td>Art &amp; Design</td>\n",
              "      <td>July 31, 2018</td>\n",
              "      <td>3.1</td>\n",
              "      <td>4.1 and up</td>\n",
              "      <td>2018</td>\n",
              "    </tr>\n",
              "    <tr>\n",
              "      <th>17</th>\n",
              "      <td>350 Diy Room Decor Ideas</td>\n",
              "      <td>art_and_design</td>\n",
              "      <td>4.5</td>\n",
              "      <td>27</td>\n",
              "      <td>17M</td>\n",
              "      <td>10,000+</td>\n",
              "      <td>Free</td>\n",
              "      <td>0</td>\n",
              "      <td>Everyone</td>\n",
              "      <td>Art &amp; Design</td>\n",
              "      <td>November 7, 2017</td>\n",
              "      <td>1.0</td>\n",
              "      <td>2.3 and up</td>\n",
              "      <td>2017</td>\n",
              "    </tr>\n",
              "    <tr>\n",
              "      <th>18</th>\n",
              "      <td>FlipaClip - Cartoon animation</td>\n",
              "      <td>art_and_design</td>\n",
              "      <td>4.3</td>\n",
              "      <td>194216</td>\n",
              "      <td>39M</td>\n",
              "      <td>5,000,000+</td>\n",
              "      <td>Free</td>\n",
              "      <td>0</td>\n",
              "      <td>Everyone</td>\n",
              "      <td>Art &amp; Design</td>\n",
              "      <td>August 3, 2018</td>\n",
              "      <td>2.2.5</td>\n",
              "      <td>4.0.3 and up</td>\n",
              "      <td>2018</td>\n",
              "    </tr>\n",
              "    <tr>\n",
              "      <th>19</th>\n",
              "      <td>ibis Paint X</td>\n",
              "      <td>art_and_design</td>\n",
              "      <td>4.6</td>\n",
              "      <td>224399</td>\n",
              "      <td>31M</td>\n",
              "      <td>10,000,000+</td>\n",
              "      <td>Free</td>\n",
              "      <td>0</td>\n",
              "      <td>Everyone</td>\n",
              "      <td>Art &amp; Design</td>\n",
              "      <td>July 30, 2018</td>\n",
              "      <td>5.5.4</td>\n",
              "      <td>4.1 and up</td>\n",
              "      <td>2018</td>\n",
              "    </tr>\n",
              "    <tr>\n",
              "      <th>20</th>\n",
              "      <td>Logo Maker - Small Business</td>\n",
              "      <td>art_and_design</td>\n",
              "      <td>4.0</td>\n",
              "      <td>450</td>\n",
              "      <td>14M</td>\n",
              "      <td>100,000+</td>\n",
              "      <td>Free</td>\n",
              "      <td>0</td>\n",
              "      <td>Everyone</td>\n",
              "      <td>Art &amp; Design</td>\n",
              "      <td>April 20, 2018</td>\n",
              "      <td>4.0</td>\n",
              "      <td>4.1 and up</td>\n",
              "      <td>2018</td>\n",
              "    </tr>\n",
              "  </tbody>\n",
              "</table>\n",
              "</div>"
            ],
            "text/plain": [
              "                                                  App  ... year_updated\n",
              "0      Photo Editor & Candy Camera & Grid & ScrapBook  ...         2018\n",
              "1                                 Coloring book moana  ...         2018\n",
              "2   U Launcher Lite – FREE Live Cool Themes, Hide ...  ...         2018\n",
              "3                               Sketch - Draw & Paint  ...         2018\n",
              "4               Pixel Draw - Number Art Coloring Book  ...         2018\n",
              "5                          Paper flowers instructions  ...         2017\n",
              "6             Smoke Effect Photo Maker - Smoke Editor  ...         2018\n",
              "7                                    Infinite Painter  ...         2018\n",
              "8                                Garden Coloring Book  ...         2017\n",
              "9                       Kids Paint Free - Drawing Fun  ...         2018\n",
              "10                            Text on Photo - Fonteee  ...         2017\n",
              "11            Name Art Photo Editor - Focus n Filters  ...         2018\n",
              "12                     Tattoo Name On My Photo Editor  ...         2018\n",
              "13                              Mandala Coloring Book  ...         2018\n",
              "14    3D Color Pixel by Number - Sandbox Art Coloring  ...         2018\n",
              "16       Photo Designer - Write your name with shapes  ...         2018\n",
              "17                           350 Diy Room Decor Ideas  ...         2017\n",
              "18                      FlipaClip - Cartoon animation  ...         2018\n",
              "19                                       ibis Paint X  ...         2018\n",
              "20                        Logo Maker - Small Business  ...         2018\n",
              "\n",
              "[20 rows x 14 columns]"
            ]
          },
          "metadata": {
            "tags": []
          },
          "execution_count": 94
        }
      ]
    },
    {
      "cell_type": "code",
      "metadata": {
        "id": "NDCZQhmkRM9B"
      },
      "source": [
        "df.year_updated = pd.to_numeric(df.year_updated)"
      ],
      "execution_count": 95,
      "outputs": []
    },
    {
      "cell_type": "code",
      "metadata": {
        "colab": {
          "base_uri": "https://localhost:8080/"
        },
        "id": "knyVGNW1RPa2",
        "outputId": "de637fe6-994e-48a7-89bb-bcb670411119"
      },
      "source": [
        "df.year_updated.value_counts()"
      ],
      "execution_count": 96,
      "outputs": [
        {
          "output_type": "execute_result",
          "data": {
            "text/plain": [
              "2018    5446\n",
              "2017    1425\n",
              "2016     628\n",
              "2015     379\n",
              "2014     184\n",
              "2013      91\n",
              "2012      21\n",
              "2011      15\n",
              "2010       1\n",
              "Name: year_updated, dtype: int64"
            ]
          },
          "metadata": {
            "tags": []
          },
          "execution_count": 96
        }
      ]
    },
    {
      "cell_type": "markdown",
      "metadata": {
        "id": "8pxCBuJ6Xtxr"
      },
      "source": [
        "\r\n",
        "\r\n",
        "---\r\n",
        "\r\n",
        "---\r\n",
        "\r\n",
        "\r\n",
        "\r\n"
      ]
    },
    {
      "cell_type": "markdown",
      "metadata": {
        "id": "Hr5Hm8zjX3d6"
      },
      "source": [
        "# Let's take a look at the Numerical variables \n",
        "* Rating\n",
        "* Reviews\n",
        "* Installs \n",
        "* Price "
      ]
    },
    {
      "cell_type": "markdown",
      "metadata": {
        "id": "s3luLh7RWBDn"
      },
      "source": [
        "### Rating"
      ]
    },
    {
      "cell_type": "code",
      "metadata": {
        "colab": {
          "base_uri": "https://localhost:8080/"
        },
        "id": "hSFUwbx9X3d6",
        "outputId": "f67e171d-ca64-4f1f-817a-664021125ab5"
      },
      "source": [
        "df.Rating.value_counts()[:5]"
      ],
      "execution_count": 97,
      "outputs": [
        {
          "output_type": "execute_result",
          "data": {
            "text/plain": [
              "4.3    897\n",
              "4.4    894\n",
              "4.5    847\n",
              "4.2    809\n",
              "4.6    683\n",
              "4.1    620\n",
              "4.0    512\n",
              "4.7    442\n",
              "3.9    359\n",
              "3.8    286\n",
              "5.0    271\n",
              "Name: Rating, dtype: int64"
            ]
          },
          "metadata": {
            "tags": []
          },
          "execution_count": 97
        }
      ]
    },
    {
      "cell_type": "code",
      "metadata": {
        "colab": {
          "base_uri": "https://localhost:8080/",
          "height": 329
        },
        "id": "R1vszfZIX3d6",
        "outputId": "d86d1655-2cc0-40dd-f9b2-1e8d3f56f42f"
      },
      "source": [
        "x = df.Rating.value_counts()[:5].to_dict().keys()\n",
        "y = df.Rating.value_counts()[:5].to_dict().values()\n",
        "\n",
        "plt.figure(figsize=(5,3), dpi=100)\n",
        "plt.title(\"Rating\")\n",
        "plt.xlabel('Rating')\n",
        "plt.ylabel('Counts')\n",
        "plt.scatter(x,y);"
      ],
      "execution_count": 98,
      "outputs": [
        {
          "output_type": "display_data",
          "data": {
            "image/png": "[encoded data removed]",
            "text/plain": [
              "<Figure size 500x300 with 1 Axes>"
            ]
          },
          "metadata": {
            "tags": [],
            "needs_background": "light"
          }
        }
      ]
    },
    {
      "cell_type": "markdown",
      "metadata": {
        "id": "AsyqVhV7X3d6"
      },
      "source": [
        "Most number of apps are rated 4.4"
      ]
    },
    {
      "cell_type": "markdown",
      "metadata": {
        "id": "5sPZXczeXwfw"
      },
      "source": [
        "\r\n",
        "\r\n",
        "---\r\n",
        "\r\n"
      ]
    },
    {
      "cell_type": "markdown",
      "metadata": {
        "id": "xDK-D0xeX3d7"
      },
      "source": [
        "#### Reviews"
      ]
    },
    {
      "cell_type": "code",
      "metadata": {
        "colab": {
          "base_uri": "https://localhost:8080/"
        },
        "id": "ylaewLBmX3d7",
        "outputId": "d65283df-bace-4f63-8350-d22c6258c552"
      },
      "source": [
        "df.Reviews = pd.to_numeric(df.Reviews)\n",
        "df.Reviews"
      ],
      "execution_count": 99,
      "outputs": [
        {
          "output_type": "execute_result",
          "data": {
            "text/plain": [
              "0           159\n",
              "1           967\n",
              "2         87510\n",
              "3        215644\n",
              "4           967\n",
              "          ...  \n",
              "10834         7\n",
              "10836        38\n",
              "10837         4\n",
              "10839       114\n",
              "10840    398307\n",
              "Name: Reviews, Length: 8190, dtype: int64"
            ]
          },
          "metadata": {
            "tags": []
          },
          "execution_count": 99
        }
      ]
    },
    {
      "cell_type": "code",
      "metadata": {
        "colab": {
          "base_uri": "https://localhost:8080/",
          "height": 77
        },
        "id": "9PmI0fapX3d7",
        "outputId": "de32b62d-d976-49f0-a9c4-ebb8ff0c8b52"
      },
      "source": [
        "df[df['Reviews'] == df.Reviews.max()]"
      ],
      "execution_count": 100,
      "outputs": [
        {
          "output_type": "execute_result",
          "data": {
            "text/html": [
              "<div>\n",
              "<style scoped>\n",
              "    .dataframe tbody tr th:only-of-type {\n",
              "        vertical-align: middle;\n",
              "    }\n",
              "\n",
              "    .dataframe tbody tr th {\n",
              "        vertical-align: top;\n",
              "    }\n",
              "\n",
              "    .dataframe thead th {\n",
              "        text-align: right;\n",
              "    }\n",
              "</style>\n",
              "<table border=\"1\" class=\"dataframe\">\n",
              "  <thead>\n",
              "    <tr style=\"text-align: right;\">\n",
              "      <th></th>\n",
              "      <th>App</th>\n",
              "      <th>Category</th>\n",
              "      <th>Rating</th>\n",
              "      <th>Reviews</th>\n",
              "      <th>Size</th>\n",
              "      <th>Installs</th>\n",
              "      <th>Type</th>\n",
              "      <th>Price</th>\n",
              "      <th>Content Rating</th>\n",
              "      <th>Genres</th>\n",
              "      <th>Last Updated</th>\n",
              "      <th>Current Ver</th>\n",
              "      <th>Android Ver</th>\n",
              "      <th>year_updated</th>\n",
              "    </tr>\n",
              "  </thead>\n",
              "  <tbody>\n",
              "    <tr>\n",
              "      <th>2544</th>\n",
              "      <td>Facebook</td>\n",
              "      <td>social</td>\n",
              "      <td>4.1</td>\n",
              "      <td>78158306</td>\n",
              "      <td>Varies with device</td>\n",
              "      <td>1,000,000,000+</td>\n",
              "      <td>Free</td>\n",
              "      <td>0</td>\n",
              "      <td>Teen</td>\n",
              "      <td>Social</td>\n",
              "      <td>August 3, 2018</td>\n",
              "      <td>Varies with device</td>\n",
              "      <td>Varies with device</td>\n",
              "      <td>2018</td>\n",
              "    </tr>\n",
              "  </tbody>\n",
              "</table>\n",
              "</div>"
            ],
            "text/plain": [
              "           App Category  ...         Android Ver  year_updated\n",
              "2544  Facebook   social  ...  Varies with device          2018\n",
              "\n",
              "[1 rows x 14 columns]"
            ]
          },
          "metadata": {
            "tags": []
          },
          "execution_count": 100
        }
      ]
    },
    {
      "cell_type": "code",
      "metadata": {
        "colab": {
          "base_uri": "https://localhost:8080/",
          "height": 586
        },
        "id": "A3lZgzyBX3d7",
        "outputId": "d5f881a7-1e1d-424f-e778-bfe0aea06e37"
      },
      "source": [
        "df[df['Reviews'] == df.Reviews.min()]"
      ],
      "execution_count": 101,
      "outputs": [
        {
          "output_type": "execute_result",
          "data": {
            "text/html": [
              "<div>\n",
              "<style scoped>\n",
              "    .dataframe tbody tr th:only-of-type {\n",
              "        vertical-align: middle;\n",
              "    }\n",
              "\n",
              "    .dataframe tbody tr th {\n",
              "        vertical-align: top;\n",
              "    }\n",
              "\n",
              "    .dataframe thead th {\n",
              "        text-align: right;\n",
              "    }\n",
              "</style>\n",
              "<table border=\"1\" class=\"dataframe\">\n",
              "  <thead>\n",
              "    <tr style=\"text-align: right;\">\n",
              "      <th></th>\n",
              "      <th>App</th>\n",
              "      <th>Category</th>\n",
              "      <th>Rating</th>\n",
              "      <th>Reviews</th>\n",
              "      <th>Size</th>\n",
              "      <th>Installs</th>\n",
              "      <th>Type</th>\n",
              "      <th>Price</th>\n",
              "      <th>Content Rating</th>\n",
              "      <th>Genres</th>\n",
              "      <th>Last Updated</th>\n",
              "      <th>Current Ver</th>\n",
              "      <th>Android Ver</th>\n",
              "      <th>year_updated</th>\n",
              "    </tr>\n",
              "  </thead>\n",
              "  <tbody>\n",
              "    <tr>\n",
              "      <th>625</th>\n",
              "      <td>House party - live chat</td>\n",
              "      <td>dating</td>\n",
              "      <td>1.0</td>\n",
              "      <td>1</td>\n",
              "      <td>9.2M</td>\n",
              "      <td>10+</td>\n",
              "      <td>Free</td>\n",
              "      <td>0</td>\n",
              "      <td>Mature 17+</td>\n",
              "      <td>Dating</td>\n",
              "      <td>July 31, 2018</td>\n",
              "      <td>3.52</td>\n",
              "      <td>4.0.3 and up</td>\n",
              "      <td>2018</td>\n",
              "    </tr>\n",
              "    <tr>\n",
              "      <th>645</th>\n",
              "      <td>UK Girls Mobile Numbers</td>\n",
              "      <td>dating</td>\n",
              "      <td>3.0</td>\n",
              "      <td>1</td>\n",
              "      <td>5.5M</td>\n",
              "      <td>500+</td>\n",
              "      <td>Free</td>\n",
              "      <td>0</td>\n",
              "      <td>Mature 17+</td>\n",
              "      <td>Dating</td>\n",
              "      <td>July 19, 2018</td>\n",
              "      <td>1.0</td>\n",
              "      <td>4.0.3 and up</td>\n",
              "      <td>2018</td>\n",
              "    </tr>\n",
              "    <tr>\n",
              "      <th>1038</th>\n",
              "      <td>Mindvalley U Tallinn 2018</td>\n",
              "      <td>events</td>\n",
              "      <td>5.0</td>\n",
              "      <td>1</td>\n",
              "      <td>21M</td>\n",
              "      <td>100+</td>\n",
              "      <td>Free</td>\n",
              "      <td>0</td>\n",
              "      <td>Everyone</td>\n",
              "      <td>Events</td>\n",
              "      <td>July 3, 2018</td>\n",
              "      <td>1.0.5</td>\n",
              "      <td>4.4 and up</td>\n",
              "      <td>2018</td>\n",
              "    </tr>\n",
              "    <tr>\n",
              "      <th>2445</th>\n",
              "      <td>Labs on Demand</td>\n",
              "      <td>medical</td>\n",
              "      <td>5.0</td>\n",
              "      <td>1</td>\n",
              "      <td>22M</td>\n",
              "      <td>10+</td>\n",
              "      <td>Free</td>\n",
              "      <td>0</td>\n",
              "      <td>Everyone</td>\n",
              "      <td>Medical</td>\n",
              "      <td>August 3, 2018</td>\n",
              "      <td>1.2</td>\n",
              "      <td>4.2 and up</td>\n",
              "      <td>2018</td>\n",
              "    </tr>\n",
              "    <tr>\n",
              "      <th>2459</th>\n",
              "      <td>Anatomy &amp; Physiology Vocabulary Exam Review App</td>\n",
              "      <td>medical</td>\n",
              "      <td>5.0</td>\n",
              "      <td>1</td>\n",
              "      <td>4.6M</td>\n",
              "      <td>5+</td>\n",
              "      <td>Free</td>\n",
              "      <td>0</td>\n",
              "      <td>Everyone</td>\n",
              "      <td>Medical</td>\n",
              "      <td>August 2, 2018</td>\n",
              "      <td>2.0</td>\n",
              "      <td>4.0 and up</td>\n",
              "      <td>2018</td>\n",
              "    </tr>\n",
              "    <tr>\n",
              "      <th>...</th>\n",
              "      <td>...</td>\n",
              "      <td>...</td>\n",
              "      <td>...</td>\n",
              "      <td>...</td>\n",
              "      <td>...</td>\n",
              "      <td>...</td>\n",
              "      <td>...</td>\n",
              "      <td>...</td>\n",
              "      <td>...</td>\n",
              "      <td>...</td>\n",
              "      <td>...</td>\n",
              "      <td>...</td>\n",
              "      <td>...</td>\n",
              "      <td>...</td>\n",
              "    </tr>\n",
              "    <tr>\n",
              "      <th>9513</th>\n",
              "      <td>Ek Kahani Aisi Bhi Season 3 - The Horror Story</td>\n",
              "      <td>family</td>\n",
              "      <td>3.0</td>\n",
              "      <td>1</td>\n",
              "      <td>5.8M</td>\n",
              "      <td>100+</td>\n",
              "      <td>Free</td>\n",
              "      <td>0</td>\n",
              "      <td>Teen</td>\n",
              "      <td>Entertainment</td>\n",
              "      <td>July 21, 2018</td>\n",
              "      <td>1.1</td>\n",
              "      <td>5.0 and up</td>\n",
              "      <td>2018</td>\n",
              "    </tr>\n",
              "    <tr>\n",
              "      <th>9659</th>\n",
              "      <td>FAST EO</td>\n",
              "      <td>events</td>\n",
              "      <td>5.0</td>\n",
              "      <td>1</td>\n",
              "      <td>Varies with device</td>\n",
              "      <td>10+</td>\n",
              "      <td>Free</td>\n",
              "      <td>0</td>\n",
              "      <td>Everyone</td>\n",
              "      <td>Events</td>\n",
              "      <td>May 15, 2018</td>\n",
              "      <td>1.0.3</td>\n",
              "      <td>4.1 and up</td>\n",
              "      <td>2018</td>\n",
              "    </tr>\n",
              "    <tr>\n",
              "      <th>9810</th>\n",
              "      <td>ES Billing System (Offline App)</td>\n",
              "      <td>productivity</td>\n",
              "      <td>5.0</td>\n",
              "      <td>1</td>\n",
              "      <td>4.2M</td>\n",
              "      <td>100+</td>\n",
              "      <td>Free</td>\n",
              "      <td>0</td>\n",
              "      <td>Everyone</td>\n",
              "      <td>Productivity</td>\n",
              "      <td>May 17, 2018</td>\n",
              "      <td>1.0</td>\n",
              "      <td>4.1 and up</td>\n",
              "      <td>2018</td>\n",
              "    </tr>\n",
              "    <tr>\n",
              "      <th>10529</th>\n",
              "      <td>FK CLASSIC FOR YOU</td>\n",
              "      <td>business</td>\n",
              "      <td>5.0</td>\n",
              "      <td>1</td>\n",
              "      <td>3.5M</td>\n",
              "      <td>10+</td>\n",
              "      <td>Free</td>\n",
              "      <td>0</td>\n",
              "      <td>Everyone</td>\n",
              "      <td>Business</td>\n",
              "      <td>February 20, 2018</td>\n",
              "      <td>1.1.0</td>\n",
              "      <td>4.0 and up</td>\n",
              "      <td>2018</td>\n",
              "    </tr>\n",
              "    <tr>\n",
              "      <th>10776</th>\n",
              "      <td>Monster Ride Pro</td>\n",
              "      <td>game</td>\n",
              "      <td>5.0</td>\n",
              "      <td>1</td>\n",
              "      <td>24M</td>\n",
              "      <td>10+</td>\n",
              "      <td>Free</td>\n",
              "      <td>0</td>\n",
              "      <td>Everyone</td>\n",
              "      <td>Racing</td>\n",
              "      <td>March 5, 2018</td>\n",
              "      <td>2.0</td>\n",
              "      <td>2.3 and up</td>\n",
              "      <td>2018</td>\n",
              "    </tr>\n",
              "  </tbody>\n",
              "</table>\n",
              "<p>67 rows × 14 columns</p>\n",
              "</div>"
            ],
            "text/plain": [
              "                                                   App  ... year_updated\n",
              "625                            House party - live chat  ...         2018\n",
              "645                            UK Girls Mobile Numbers  ...         2018\n",
              "1038                         Mindvalley U Tallinn 2018  ...         2018\n",
              "2445                                    Labs on Demand  ...         2018\n",
              "2459   Anatomy & Physiology Vocabulary Exam Review App  ...         2018\n",
              "...                                                ...  ...          ...\n",
              "9513    Ek Kahani Aisi Bhi Season 3 - The Horror Story  ...         2018\n",
              "9659                                           FAST EO  ...         2018\n",
              "9810                   ES Billing System (Offline App)  ...         2018\n",
              "10529                               FK CLASSIC FOR YOU  ...         2018\n",
              "10776                                 Monster Ride Pro  ...         2018\n",
              "\n",
              "[67 rows x 14 columns]"
            ]
          },
          "metadata": {
            "tags": []
          },
          "execution_count": 101
        }
      ]
    },
    {
      "cell_type": "markdown",
      "metadata": {
        "id": "ytF_e2G1X3d7"
      },
      "source": [
        "Facebook has the highest number of reviews\n",
        "while there are 67 apps with only one review"
      ]
    },
    {
      "cell_type": "markdown",
      "metadata": {
        "id": "BjV0YsnNXytx"
      },
      "source": [
        "\r\n",
        "\r\n",
        "---\r\n",
        "\r\n"
      ]
    },
    {
      "cell_type": "markdown",
      "metadata": {
        "id": "ON9D-sbxX3d7"
      },
      "source": [
        "#### Installs"
      ]
    },
    {
      "cell_type": "code",
      "metadata": {
        "colab": {
          "base_uri": "https://localhost:8080/"
        },
        "id": "C3ATRoEHX3d8",
        "outputId": "297f6c09-363d-43a0-fbd0-8b559169a927"
      },
      "source": [
        "df.Installs"
      ],
      "execution_count": 102,
      "outputs": [
        {
          "output_type": "execute_result",
          "data": {
            "text/plain": [
              "0            10,000+\n",
              "1           500,000+\n",
              "2         5,000,000+\n",
              "3        50,000,000+\n",
              "4           100,000+\n",
              "            ...     \n",
              "10834           500+\n",
              "10836         5,000+\n",
              "10837           100+\n",
              "10839         1,000+\n",
              "10840    10,000,000+\n",
              "Name: Installs, Length: 8190, dtype: object"
            ]
          },
          "metadata": {
            "tags": []
          },
          "execution_count": 102
        }
      ]
    },
    {
      "cell_type": "markdown",
      "metadata": {
        "id": "04d22G6XX3d8"
      },
      "source": [
        "Installs has the object data type. \n",
        "\n",
        "We need to convert that to int or float"
      ]
    },
    {
      "cell_type": "code",
      "metadata": {
        "id": "yIo1U6s2X3d8"
      },
      "source": [
        "df.Installs = df.Installs.apply(lambda x: x.replace('+', ''))\n",
        "df.Installs = df.Installs.apply(lambda x: x.replace(',', ''))\n",
        "df.Installs = pd.to_numeric(df.Installs)"
      ],
      "execution_count": 103,
      "outputs": []
    },
    {
      "cell_type": "code",
      "metadata": {
        "colab": {
          "base_uri": "https://localhost:8080/"
        },
        "id": "8pJKMkGkX3d8",
        "outputId": "ea24a507-31ae-4333-b966-c0d5c715ed08"
      },
      "source": [
        "df.Installs"
      ],
      "execution_count": 104,
      "outputs": [
        {
          "output_type": "execute_result",
          "data": {
            "text/plain": [
              "0           10000\n",
              "1          500000\n",
              "2         5000000\n",
              "3        50000000\n",
              "4          100000\n",
              "           ...   \n",
              "10834         500\n",
              "10836        5000\n",
              "10837         100\n",
              "10839        1000\n",
              "10840    10000000\n",
              "Name: Installs, Length: 8190, dtype: int64"
            ]
          },
          "metadata": {
            "tags": []
          },
          "execution_count": 104
        }
      ]
    },
    {
      "cell_type": "code",
      "metadata": {
        "colab": {
          "base_uri": "https://localhost:8080/",
          "height": 992
        },
        "id": "i8grLGVyX3d8",
        "outputId": "9dbf838d-d67f-4073-bce7-bc01f59b0a42"
      },
      "source": [
        "df[df['Installs']== df.Installs.max()]"
      ],
      "execution_count": 105,
      "outputs": [
        {
          "output_type": "execute_result",
          "data": {
            "text/html": [
              "<div>\n",
              "<style scoped>\n",
              "    .dataframe tbody tr th:only-of-type {\n",
              "        vertical-align: middle;\n",
              "    }\n",
              "\n",
              "    .dataframe tbody tr th {\n",
              "        vertical-align: top;\n",
              "    }\n",
              "\n",
              "    .dataframe thead th {\n",
              "        text-align: right;\n",
              "    }\n",
              "</style>\n",
              "<table border=\"1\" class=\"dataframe\">\n",
              "  <thead>\n",
              "    <tr style=\"text-align: right;\">\n",
              "      <th></th>\n",
              "      <th>App</th>\n",
              "      <th>Category</th>\n",
              "      <th>Rating</th>\n",
              "      <th>Reviews</th>\n",
              "      <th>Size</th>\n",
              "      <th>Installs</th>\n",
              "      <th>Type</th>\n",
              "      <th>Price</th>\n",
              "      <th>Content Rating</th>\n",
              "      <th>Genres</th>\n",
              "      <th>Last Updated</th>\n",
              "      <th>Current Ver</th>\n",
              "      <th>Android Ver</th>\n",
              "      <th>year_updated</th>\n",
              "    </tr>\n",
              "  </thead>\n",
              "  <tbody>\n",
              "    <tr>\n",
              "      <th>152</th>\n",
              "      <td>Google Play Books</td>\n",
              "      <td>books_and_reference</td>\n",
              "      <td>3.9</td>\n",
              "      <td>1433233</td>\n",
              "      <td>Varies with device</td>\n",
              "      <td>1000000000</td>\n",
              "      <td>Free</td>\n",
              "      <td>0</td>\n",
              "      <td>Teen</td>\n",
              "      <td>Books &amp; Reference</td>\n",
              "      <td>August 3, 2018</td>\n",
              "      <td>Varies with device</td>\n",
              "      <td>Varies with device</td>\n",
              "      <td>2018</td>\n",
              "    </tr>\n",
              "    <tr>\n",
              "      <th>335</th>\n",
              "      <td>Messenger – Text and Video Chat for Free</td>\n",
              "      <td>communication</td>\n",
              "      <td>4.0</td>\n",
              "      <td>56642847</td>\n",
              "      <td>Varies with device</td>\n",
              "      <td>1000000000</td>\n",
              "      <td>Free</td>\n",
              "      <td>0</td>\n",
              "      <td>Everyone</td>\n",
              "      <td>Communication</td>\n",
              "      <td>August 1, 2018</td>\n",
              "      <td>Varies with device</td>\n",
              "      <td>Varies with device</td>\n",
              "      <td>2018</td>\n",
              "    </tr>\n",
              "    <tr>\n",
              "      <th>336</th>\n",
              "      <td>WhatsApp Messenger</td>\n",
              "      <td>communication</td>\n",
              "      <td>4.4</td>\n",
              "      <td>69119316</td>\n",
              "      <td>Varies with device</td>\n",
              "      <td>1000000000</td>\n",
              "      <td>Free</td>\n",
              "      <td>0</td>\n",
              "      <td>Everyone</td>\n",
              "      <td>Communication</td>\n",
              "      <td>August 3, 2018</td>\n",
              "      <td>Varies with device</td>\n",
              "      <td>Varies with device</td>\n",
              "      <td>2018</td>\n",
              "    </tr>\n",
              "    <tr>\n",
              "      <th>338</th>\n",
              "      <td>Google Chrome: Fast &amp; Secure</td>\n",
              "      <td>communication</td>\n",
              "      <td>4.3</td>\n",
              "      <td>9642995</td>\n",
              "      <td>Varies with device</td>\n",
              "      <td>1000000000</td>\n",
              "      <td>Free</td>\n",
              "      <td>0</td>\n",
              "      <td>Everyone</td>\n",
              "      <td>Communication</td>\n",
              "      <td>August 1, 2018</td>\n",
              "      <td>Varies with device</td>\n",
              "      <td>Varies with device</td>\n",
              "      <td>2018</td>\n",
              "    </tr>\n",
              "    <tr>\n",
              "      <th>340</th>\n",
              "      <td>Gmail</td>\n",
              "      <td>communication</td>\n",
              "      <td>4.3</td>\n",
              "      <td>4604324</td>\n",
              "      <td>Varies with device</td>\n",
              "      <td>1000000000</td>\n",
              "      <td>Free</td>\n",
              "      <td>0</td>\n",
              "      <td>Everyone</td>\n",
              "      <td>Communication</td>\n",
              "      <td>August 2, 2018</td>\n",
              "      <td>Varies with device</td>\n",
              "      <td>Varies with device</td>\n",
              "      <td>2018</td>\n",
              "    </tr>\n",
              "    <tr>\n",
              "      <th>341</th>\n",
              "      <td>Hangouts</td>\n",
              "      <td>communication</td>\n",
              "      <td>4.0</td>\n",
              "      <td>3419249</td>\n",
              "      <td>Varies with device</td>\n",
              "      <td>1000000000</td>\n",
              "      <td>Free</td>\n",
              "      <td>0</td>\n",
              "      <td>Everyone</td>\n",
              "      <td>Communication</td>\n",
              "      <td>July 21, 2018</td>\n",
              "      <td>Varies with device</td>\n",
              "      <td>Varies with device</td>\n",
              "      <td>2018</td>\n",
              "    </tr>\n",
              "    <tr>\n",
              "      <th>391</th>\n",
              "      <td>Skype - free IM &amp; video calls</td>\n",
              "      <td>communication</td>\n",
              "      <td>4.1</td>\n",
              "      <td>10484169</td>\n",
              "      <td>Varies with device</td>\n",
              "      <td>1000000000</td>\n",
              "      <td>Free</td>\n",
              "      <td>0</td>\n",
              "      <td>Everyone</td>\n",
              "      <td>Communication</td>\n",
              "      <td>August 3, 2018</td>\n",
              "      <td>Varies with device</td>\n",
              "      <td>Varies with device</td>\n",
              "      <td>2018</td>\n",
              "    </tr>\n",
              "    <tr>\n",
              "      <th>865</th>\n",
              "      <td>Google Play Games</td>\n",
              "      <td>entertainment</td>\n",
              "      <td>4.3</td>\n",
              "      <td>7165362</td>\n",
              "      <td>Varies with device</td>\n",
              "      <td>1000000000</td>\n",
              "      <td>Free</td>\n",
              "      <td>0</td>\n",
              "      <td>Teen</td>\n",
              "      <td>Entertainment</td>\n",
              "      <td>July 16, 2018</td>\n",
              "      <td>Varies with device</td>\n",
              "      <td>Varies with device</td>\n",
              "      <td>2018</td>\n",
              "    </tr>\n",
              "    <tr>\n",
              "      <th>1654</th>\n",
              "      <td>Subway Surfers</td>\n",
              "      <td>game</td>\n",
              "      <td>4.5</td>\n",
              "      <td>27722264</td>\n",
              "      <td>76M</td>\n",
              "      <td>1000000000</td>\n",
              "      <td>Free</td>\n",
              "      <td>0</td>\n",
              "      <td>Everyone 10+</td>\n",
              "      <td>Arcade</td>\n",
              "      <td>July 12, 2018</td>\n",
              "      <td>1.90.0</td>\n",
              "      <td>4.1 and up</td>\n",
              "      <td>2018</td>\n",
              "    </tr>\n",
              "    <tr>\n",
              "      <th>2544</th>\n",
              "      <td>Facebook</td>\n",
              "      <td>social</td>\n",
              "      <td>4.1</td>\n",
              "      <td>78158306</td>\n",
              "      <td>Varies with device</td>\n",
              "      <td>1000000000</td>\n",
              "      <td>Free</td>\n",
              "      <td>0</td>\n",
              "      <td>Teen</td>\n",
              "      <td>Social</td>\n",
              "      <td>August 3, 2018</td>\n",
              "      <td>Varies with device</td>\n",
              "      <td>Varies with device</td>\n",
              "      <td>2018</td>\n",
              "    </tr>\n",
              "    <tr>\n",
              "      <th>2545</th>\n",
              "      <td>Instagram</td>\n",
              "      <td>social</td>\n",
              "      <td>4.5</td>\n",
              "      <td>66577313</td>\n",
              "      <td>Varies with device</td>\n",
              "      <td>1000000000</td>\n",
              "      <td>Free</td>\n",
              "      <td>0</td>\n",
              "      <td>Teen</td>\n",
              "      <td>Social</td>\n",
              "      <td>July 31, 2018</td>\n",
              "      <td>Varies with device</td>\n",
              "      <td>Varies with device</td>\n",
              "      <td>2018</td>\n",
              "    </tr>\n",
              "    <tr>\n",
              "      <th>2554</th>\n",
              "      <td>Google+</td>\n",
              "      <td>social</td>\n",
              "      <td>4.2</td>\n",
              "      <td>4831125</td>\n",
              "      <td>Varies with device</td>\n",
              "      <td>1000000000</td>\n",
              "      <td>Free</td>\n",
              "      <td>0</td>\n",
              "      <td>Teen</td>\n",
              "      <td>Social</td>\n",
              "      <td>July 26, 2018</td>\n",
              "      <td>Varies with device</td>\n",
              "      <td>Varies with device</td>\n",
              "      <td>2018</td>\n",
              "    </tr>\n",
              "    <tr>\n",
              "      <th>2808</th>\n",
              "      <td>Google Photos</td>\n",
              "      <td>photography</td>\n",
              "      <td>4.5</td>\n",
              "      <td>10858556</td>\n",
              "      <td>Varies with device</td>\n",
              "      <td>1000000000</td>\n",
              "      <td>Free</td>\n",
              "      <td>0</td>\n",
              "      <td>Everyone</td>\n",
              "      <td>Photography</td>\n",
              "      <td>August 6, 2018</td>\n",
              "      <td>Varies with device</td>\n",
              "      <td>Varies with device</td>\n",
              "      <td>2018</td>\n",
              "    </tr>\n",
              "    <tr>\n",
              "      <th>3117</th>\n",
              "      <td>Maps - Navigate &amp; Explore</td>\n",
              "      <td>travel_and_local</td>\n",
              "      <td>4.3</td>\n",
              "      <td>9235155</td>\n",
              "      <td>Varies with device</td>\n",
              "      <td>1000000000</td>\n",
              "      <td>Free</td>\n",
              "      <td>0</td>\n",
              "      <td>Everyone</td>\n",
              "      <td>Travel &amp; Local</td>\n",
              "      <td>July 31, 2018</td>\n",
              "      <td>Varies with device</td>\n",
              "      <td>Varies with device</td>\n",
              "      <td>2018</td>\n",
              "    </tr>\n",
              "    <tr>\n",
              "      <th>3127</th>\n",
              "      <td>Google Street View</td>\n",
              "      <td>travel_and_local</td>\n",
              "      <td>4.2</td>\n",
              "      <td>2129689</td>\n",
              "      <td>Varies with device</td>\n",
              "      <td>1000000000</td>\n",
              "      <td>Free</td>\n",
              "      <td>0</td>\n",
              "      <td>Everyone</td>\n",
              "      <td>Travel &amp; Local</td>\n",
              "      <td>August 6, 2018</td>\n",
              "      <td>Varies with device</td>\n",
              "      <td>Varies with device</td>\n",
              "      <td>2018</td>\n",
              "    </tr>\n",
              "    <tr>\n",
              "      <th>3234</th>\n",
              "      <td>Google</td>\n",
              "      <td>tools</td>\n",
              "      <td>4.4</td>\n",
              "      <td>8033493</td>\n",
              "      <td>Varies with device</td>\n",
              "      <td>1000000000</td>\n",
              "      <td>Free</td>\n",
              "      <td>0</td>\n",
              "      <td>Everyone</td>\n",
              "      <td>Tools</td>\n",
              "      <td>August 3, 2018</td>\n",
              "      <td>Varies with device</td>\n",
              "      <td>Varies with device</td>\n",
              "      <td>2018</td>\n",
              "    </tr>\n",
              "    <tr>\n",
              "      <th>3454</th>\n",
              "      <td>Google Drive</td>\n",
              "      <td>productivity</td>\n",
              "      <td>4.4</td>\n",
              "      <td>2731171</td>\n",
              "      <td>Varies with device</td>\n",
              "      <td>1000000000</td>\n",
              "      <td>Free</td>\n",
              "      <td>0</td>\n",
              "      <td>Everyone</td>\n",
              "      <td>Productivity</td>\n",
              "      <td>August 6, 2018</td>\n",
              "      <td>Varies with device</td>\n",
              "      <td>Varies with device</td>\n",
              "      <td>2018</td>\n",
              "    </tr>\n",
              "    <tr>\n",
              "      <th>3665</th>\n",
              "      <td>YouTube</td>\n",
              "      <td>video_players</td>\n",
              "      <td>4.3</td>\n",
              "      <td>25655305</td>\n",
              "      <td>Varies with device</td>\n",
              "      <td>1000000000</td>\n",
              "      <td>Free</td>\n",
              "      <td>0</td>\n",
              "      <td>Teen</td>\n",
              "      <td>Video Players &amp; Editors</td>\n",
              "      <td>August 2, 2018</td>\n",
              "      <td>Varies with device</td>\n",
              "      <td>Varies with device</td>\n",
              "      <td>2018</td>\n",
              "    </tr>\n",
              "    <tr>\n",
              "      <th>3687</th>\n",
              "      <td>Google Play Movies &amp; TV</td>\n",
              "      <td>video_players</td>\n",
              "      <td>3.7</td>\n",
              "      <td>906384</td>\n",
              "      <td>Varies with device</td>\n",
              "      <td>1000000000</td>\n",
              "      <td>Free</td>\n",
              "      <td>0</td>\n",
              "      <td>Teen</td>\n",
              "      <td>Video Players &amp; Editors</td>\n",
              "      <td>August 6, 2018</td>\n",
              "      <td>Varies with device</td>\n",
              "      <td>Varies with device</td>\n",
              "      <td>2018</td>\n",
              "    </tr>\n",
              "    <tr>\n",
              "      <th>3736</th>\n",
              "      <td>Google News</td>\n",
              "      <td>news_and_magazines</td>\n",
              "      <td>3.9</td>\n",
              "      <td>877635</td>\n",
              "      <td>13M</td>\n",
              "      <td>1000000000</td>\n",
              "      <td>Free</td>\n",
              "      <td>0</td>\n",
              "      <td>Teen</td>\n",
              "      <td>News &amp; Magazines</td>\n",
              "      <td>August 1, 2018</td>\n",
              "      <td>5.2.0</td>\n",
              "      <td>4.4 and up</td>\n",
              "      <td>2018</td>\n",
              "    </tr>\n",
              "  </tbody>\n",
              "</table>\n",
              "</div>"
            ],
            "text/plain": [
              "                                           App  ... year_updated\n",
              "152                          Google Play Books  ...         2018\n",
              "335   Messenger – Text and Video Chat for Free  ...         2018\n",
              "336                         WhatsApp Messenger  ...         2018\n",
              "338               Google Chrome: Fast & Secure  ...         2018\n",
              "340                                      Gmail  ...         2018\n",
              "341                                   Hangouts  ...         2018\n",
              "391              Skype - free IM & video calls  ...         2018\n",
              "865                          Google Play Games  ...         2018\n",
              "1654                            Subway Surfers  ...         2018\n",
              "2544                                  Facebook  ...         2018\n",
              "2545                                 Instagram  ...         2018\n",
              "2554                                   Google+  ...         2018\n",
              "2808                             Google Photos  ...         2018\n",
              "3117                 Maps - Navigate & Explore  ...         2018\n",
              "3127                        Google Street View  ...         2018\n",
              "3234                                    Google  ...         2018\n",
              "3454                              Google Drive  ...         2018\n",
              "3665                                   YouTube  ...         2018\n",
              "3687                   Google Play Movies & TV  ...         2018\n",
              "3736                               Google News  ...         2018\n",
              "\n",
              "[20 rows x 14 columns]"
            ]
          },
          "metadata": {
            "tags": []
          },
          "execution_count": 105
        }
      ]
    },
    {
      "cell_type": "markdown",
      "metadata": {
        "id": "EL5y4UR9X3d8"
      },
      "source": [
        "There are 58 apps which have highest number of installs i.e. 1,000,000,000\t"
      ]
    },
    {
      "cell_type": "markdown",
      "metadata": {
        "id": "Up4QOofcX0-N"
      },
      "source": [
        "\r\n",
        "\r\n",
        "---\r\n",
        "\r\n"
      ]
    },
    {
      "cell_type": "markdown",
      "metadata": {
        "id": "E_NvaNc6X3d9"
      },
      "source": [
        "#### Price "
      ]
    },
    {
      "cell_type": "code",
      "metadata": {
        "colab": {
          "base_uri": "https://localhost:8080/"
        },
        "id": "NNmKqPc4X3d9",
        "outputId": "5c9137a5-99d9-4f42-d5e3-5b3c5b9d3633"
      },
      "source": [
        "df.Price"
      ],
      "execution_count": 106,
      "outputs": [
        {
          "output_type": "execute_result",
          "data": {
            "text/plain": [
              "0        0\n",
              "1        0\n",
              "2        0\n",
              "3        0\n",
              "4        0\n",
              "        ..\n",
              "10834    0\n",
              "10836    0\n",
              "10837    0\n",
              "10839    0\n",
              "10840    0\n",
              "Name: Price, Length: 8190, dtype: object"
            ]
          },
          "metadata": {
            "tags": []
          },
          "execution_count": 106
        }
      ]
    },
    {
      "cell_type": "markdown",
      "metadata": {
        "id": "CmEYkV2FX3d9"
      },
      "source": [
        "Converting the Price from object to float"
      ]
    },
    {
      "cell_type": "code",
      "metadata": {
        "id": "-V2Xsb_bX3d9"
      },
      "source": [
        "df.Price = df.Price.apply(lambda x: x.replace('$', ''))\n",
        "df.Price = pd.to_numeric(df.Price)"
      ],
      "execution_count": 107,
      "outputs": []
    },
    {
      "cell_type": "code",
      "metadata": {
        "colab": {
          "base_uri": "https://localhost:8080/"
        },
        "id": "Wr5hKbaYX3d9",
        "outputId": "987da7c8-acb8-413e-a9df-181b7ddc4397"
      },
      "source": [
        "df.Price"
      ],
      "execution_count": 108,
      "outputs": [
        {
          "output_type": "execute_result",
          "data": {
            "text/plain": [
              "0        0.0\n",
              "1        0.0\n",
              "2        0.0\n",
              "3        0.0\n",
              "4        0.0\n",
              "        ... \n",
              "10834    0.0\n",
              "10836    0.0\n",
              "10837    0.0\n",
              "10839    0.0\n",
              "10840    0.0\n",
              "Name: Price, Length: 8190, dtype: float64"
            ]
          },
          "metadata": {
            "tags": []
          },
          "execution_count": 108
        }
      ]
    },
    {
      "cell_type": "code",
      "metadata": {
        "colab": {
          "base_uri": "https://localhost:8080/",
          "height": 77
        },
        "id": "aN8wjeaZX3d9",
        "outputId": "bac65d2c-f131-4faa-ed1e-d2736f87fa31"
      },
      "source": [
        "df[df['Price']== df.Price.max()]"
      ],
      "execution_count": 109,
      "outputs": [
        {
          "output_type": "execute_result",
          "data": {
            "text/html": [
              "<div>\n",
              "<style scoped>\n",
              "    .dataframe tbody tr th:only-of-type {\n",
              "        vertical-align: middle;\n",
              "    }\n",
              "\n",
              "    .dataframe tbody tr th {\n",
              "        vertical-align: top;\n",
              "    }\n",
              "\n",
              "    .dataframe thead th {\n",
              "        text-align: right;\n",
              "    }\n",
              "</style>\n",
              "<table border=\"1\" class=\"dataframe\">\n",
              "  <thead>\n",
              "    <tr style=\"text-align: right;\">\n",
              "      <th></th>\n",
              "      <th>App</th>\n",
              "      <th>Category</th>\n",
              "      <th>Rating</th>\n",
              "      <th>Reviews</th>\n",
              "      <th>Size</th>\n",
              "      <th>Installs</th>\n",
              "      <th>Type</th>\n",
              "      <th>Price</th>\n",
              "      <th>Content Rating</th>\n",
              "      <th>Genres</th>\n",
              "      <th>Last Updated</th>\n",
              "      <th>Current Ver</th>\n",
              "      <th>Android Ver</th>\n",
              "      <th>year_updated</th>\n",
              "    </tr>\n",
              "  </thead>\n",
              "  <tbody>\n",
              "    <tr>\n",
              "      <th>4367</th>\n",
              "      <td>I'm Rich - Trump Edition</td>\n",
              "      <td>lifestyle</td>\n",
              "      <td>3.6</td>\n",
              "      <td>275</td>\n",
              "      <td>7.3M</td>\n",
              "      <td>10000</td>\n",
              "      <td>Paid</td>\n",
              "      <td>400.0</td>\n",
              "      <td>Everyone</td>\n",
              "      <td>Lifestyle</td>\n",
              "      <td>May 3, 2018</td>\n",
              "      <td>1.0.1</td>\n",
              "      <td>4.1 and up</td>\n",
              "      <td>2018</td>\n",
              "    </tr>\n",
              "  </tbody>\n",
              "</table>\n",
              "</div>"
            ],
            "text/plain": [
              "                           App   Category  ...  Android Ver  year_updated\n",
              "4367  I'm Rich - Trump Edition  lifestyle  ...   4.1 and up          2018\n",
              "\n",
              "[1 rows x 14 columns]"
            ]
          },
          "metadata": {
            "tags": []
          },
          "execution_count": 109
        }
      ]
    },
    {
      "cell_type": "markdown",
      "metadata": {
        "id": "n2uS0CIdX3d-"
      },
      "source": [
        "The app \"I'm Rich - Trump Edition\" fromt the catergory 'Lifestyle' is the most costly app priced at $400 "
      ]
    },
    {
      "cell_type": "markdown",
      "metadata": {
        "id": "5iQpw_NyX25l"
      },
      "source": [
        "\r\n",
        "\r\n",
        "---\r\n",
        "\r\n",
        "---\r\n",
        "\r\n",
        "\r\n",
        "\r\n"
      ]
    },
    {
      "cell_type": "markdown",
      "metadata": {
        "id": "K8IO3CsjX3d-"
      },
      "source": [
        "# Asking and Answering Questions"
      ]
    },
    {
      "cell_type": "markdown",
      "metadata": {
        "id": "8wKQ2NaBRVAu"
      },
      "source": [
        "There are so many questions that can be asked. Here are few: \r\n",
        "\r\n",
        "\r\n",
        "* Top 10 apps with highest number of Reviews of the Type Free and Paid\r\n",
        "*   out of paid apps, which app are most cheap and how many are there\r\n",
        "* which category has the highest number of paid apps?\r\n",
        "* which paid app has highest number of installs\r\n",
        "* what are the average number of installs in categories\r\n",
        "* Apps and their categories which have device dependent sizes\r\n",
        "* Which genres have the highest rated apps\r\n",
        "* which apps have the highest number of  ratings by Teens?\r\n",
        "\r\n",
        "\r\n",
        "\r\n"
      ]
    },
    {
      "cell_type": "markdown",
      "metadata": {
        "id": "4WbNI7gkSgTV"
      },
      "source": [
        "**Top 10 apps with highest number of Reviews of the Type Free and Paid**"
      ]
    },
    {
      "cell_type": "code",
      "metadata": {
        "id": "HyATAKI1X3d-",
        "colab": {
          "base_uri": "https://localhost:8080/",
          "height": 528
        },
        "outputId": "b074518f-3533-413f-b222-cfccdda19b7e"
      },
      "source": [
        "df1 = df[df['Type']== 'Free']\r\n",
        "df1.sort_values('Reviews', ascending = False).head(10)"
      ],
      "execution_count": 110,
      "outputs": [
        {
          "output_type": "execute_result",
          "data": {
            "text/html": [
              "<div>\n",
              "<style scoped>\n",
              "    .dataframe tbody tr th:only-of-type {\n",
              "        vertical-align: middle;\n",
              "    }\n",
              "\n",
              "    .dataframe tbody tr th {\n",
              "        vertical-align: top;\n",
              "    }\n",
              "\n",
              "    .dataframe thead th {\n",
              "        text-align: right;\n",
              "    }\n",
              "</style>\n",
              "<table border=\"1\" class=\"dataframe\">\n",
              "  <thead>\n",
              "    <tr style=\"text-align: right;\">\n",
              "      <th></th>\n",
              "      <th>App</th>\n",
              "      <th>Category</th>\n",
              "      <th>Rating</th>\n",
              "      <th>Reviews</th>\n",
              "      <th>Size</th>\n",
              "      <th>Installs</th>\n",
              "      <th>Type</th>\n",
              "      <th>Price</th>\n",
              "      <th>Content Rating</th>\n",
              "      <th>Genres</th>\n",
              "      <th>Last Updated</th>\n",
              "      <th>Current Ver</th>\n",
              "      <th>Android Ver</th>\n",
              "      <th>year_updated</th>\n",
              "    </tr>\n",
              "  </thead>\n",
              "  <tbody>\n",
              "    <tr>\n",
              "      <th>2544</th>\n",
              "      <td>Facebook</td>\n",
              "      <td>social</td>\n",
              "      <td>4.1</td>\n",
              "      <td>78158306</td>\n",
              "      <td>Varies with device</td>\n",
              "      <td>1000000000</td>\n",
              "      <td>Free</td>\n",
              "      <td>0.0</td>\n",
              "      <td>Teen</td>\n",
              "      <td>Social</td>\n",
              "      <td>August 3, 2018</td>\n",
              "      <td>Varies with device</td>\n",
              "      <td>Varies with device</td>\n",
              "      <td>2018</td>\n",
              "    </tr>\n",
              "    <tr>\n",
              "      <th>336</th>\n",
              "      <td>WhatsApp Messenger</td>\n",
              "      <td>communication</td>\n",
              "      <td>4.4</td>\n",
              "      <td>69119316</td>\n",
              "      <td>Varies with device</td>\n",
              "      <td>1000000000</td>\n",
              "      <td>Free</td>\n",
              "      <td>0.0</td>\n",
              "      <td>Everyone</td>\n",
              "      <td>Communication</td>\n",
              "      <td>August 3, 2018</td>\n",
              "      <td>Varies with device</td>\n",
              "      <td>Varies with device</td>\n",
              "      <td>2018</td>\n",
              "    </tr>\n",
              "    <tr>\n",
              "      <th>2545</th>\n",
              "      <td>Instagram</td>\n",
              "      <td>social</td>\n",
              "      <td>4.5</td>\n",
              "      <td>66577313</td>\n",
              "      <td>Varies with device</td>\n",
              "      <td>1000000000</td>\n",
              "      <td>Free</td>\n",
              "      <td>0.0</td>\n",
              "      <td>Teen</td>\n",
              "      <td>Social</td>\n",
              "      <td>July 31, 2018</td>\n",
              "      <td>Varies with device</td>\n",
              "      <td>Varies with device</td>\n",
              "      <td>2018</td>\n",
              "    </tr>\n",
              "    <tr>\n",
              "      <th>335</th>\n",
              "      <td>Messenger – Text and Video Chat for Free</td>\n",
              "      <td>communication</td>\n",
              "      <td>4.0</td>\n",
              "      <td>56642847</td>\n",
              "      <td>Varies with device</td>\n",
              "      <td>1000000000</td>\n",
              "      <td>Free</td>\n",
              "      <td>0.0</td>\n",
              "      <td>Everyone</td>\n",
              "      <td>Communication</td>\n",
              "      <td>August 1, 2018</td>\n",
              "      <td>Varies with device</td>\n",
              "      <td>Varies with device</td>\n",
              "      <td>2018</td>\n",
              "    </tr>\n",
              "    <tr>\n",
              "      <th>1670</th>\n",
              "      <td>Clash of Clans</td>\n",
              "      <td>game</td>\n",
              "      <td>4.6</td>\n",
              "      <td>44891723</td>\n",
              "      <td>98M</td>\n",
              "      <td>100000000</td>\n",
              "      <td>Free</td>\n",
              "      <td>0.0</td>\n",
              "      <td>Everyone 10+</td>\n",
              "      <td>Strategy</td>\n",
              "      <td>July 15, 2018</td>\n",
              "      <td>10.322.16</td>\n",
              "      <td>4.1 and up</td>\n",
              "      <td>2018</td>\n",
              "    </tr>\n",
              "    <tr>\n",
              "      <th>4005</th>\n",
              "      <td>Clean Master- Space Cleaner &amp; Antivirus</td>\n",
              "      <td>tools</td>\n",
              "      <td>4.7</td>\n",
              "      <td>42916526</td>\n",
              "      <td>Varies with device</td>\n",
              "      <td>500000000</td>\n",
              "      <td>Free</td>\n",
              "      <td>0.0</td>\n",
              "      <td>Everyone</td>\n",
              "      <td>Tools</td>\n",
              "      <td>August 3, 2018</td>\n",
              "      <td>Varies with device</td>\n",
              "      <td>Varies with device</td>\n",
              "      <td>2018</td>\n",
              "    </tr>\n",
              "    <tr>\n",
              "      <th>1654</th>\n",
              "      <td>Subway Surfers</td>\n",
              "      <td>game</td>\n",
              "      <td>4.5</td>\n",
              "      <td>27722264</td>\n",
              "      <td>76M</td>\n",
              "      <td>1000000000</td>\n",
              "      <td>Free</td>\n",
              "      <td>0.0</td>\n",
              "      <td>Everyone 10+</td>\n",
              "      <td>Arcade</td>\n",
              "      <td>July 12, 2018</td>\n",
              "      <td>1.90.0</td>\n",
              "      <td>4.1 and up</td>\n",
              "      <td>2018</td>\n",
              "    </tr>\n",
              "    <tr>\n",
              "      <th>3665</th>\n",
              "      <td>YouTube</td>\n",
              "      <td>video_players</td>\n",
              "      <td>4.3</td>\n",
              "      <td>25655305</td>\n",
              "      <td>Varies with device</td>\n",
              "      <td>1000000000</td>\n",
              "      <td>Free</td>\n",
              "      <td>0.0</td>\n",
              "      <td>Teen</td>\n",
              "      <td>Video Players &amp; Editors</td>\n",
              "      <td>August 2, 2018</td>\n",
              "      <td>Varies with device</td>\n",
              "      <td>Varies with device</td>\n",
              "      <td>2018</td>\n",
              "    </tr>\n",
              "    <tr>\n",
              "      <th>7536</th>\n",
              "      <td>Security Master - Antivirus, VPN, AppLock, Boo...</td>\n",
              "      <td>tools</td>\n",
              "      <td>4.7</td>\n",
              "      <td>24900999</td>\n",
              "      <td>Varies with device</td>\n",
              "      <td>500000000</td>\n",
              "      <td>Free</td>\n",
              "      <td>0.0</td>\n",
              "      <td>Everyone</td>\n",
              "      <td>Tools</td>\n",
              "      <td>August 4, 2018</td>\n",
              "      <td>4.6.6</td>\n",
              "      <td>Varies with device</td>\n",
              "      <td>2018</td>\n",
              "    </tr>\n",
              "    <tr>\n",
              "      <th>1660</th>\n",
              "      <td>Clash Royale</td>\n",
              "      <td>game</td>\n",
              "      <td>4.6</td>\n",
              "      <td>23133508</td>\n",
              "      <td>97M</td>\n",
              "      <td>100000000</td>\n",
              "      <td>Free</td>\n",
              "      <td>0.0</td>\n",
              "      <td>Everyone 10+</td>\n",
              "      <td>Strategy</td>\n",
              "      <td>June 27, 2018</td>\n",
              "      <td>2.3.2</td>\n",
              "      <td>4.1 and up</td>\n",
              "      <td>2018</td>\n",
              "    </tr>\n",
              "  </tbody>\n",
              "</table>\n",
              "</div>"
            ],
            "text/plain": [
              "                                                    App  ... year_updated\n",
              "2544                                           Facebook  ...         2018\n",
              "336                                  WhatsApp Messenger  ...         2018\n",
              "2545                                          Instagram  ...         2018\n",
              "335            Messenger – Text and Video Chat for Free  ...         2018\n",
              "1670                                     Clash of Clans  ...         2018\n",
              "4005            Clean Master- Space Cleaner & Antivirus  ...         2018\n",
              "1654                                     Subway Surfers  ...         2018\n",
              "3665                                            YouTube  ...         2018\n",
              "7536  Security Master - Antivirus, VPN, AppLock, Boo...  ...         2018\n",
              "1660                                       Clash Royale  ...         2018\n",
              "\n",
              "[10 rows x 14 columns]"
            ]
          },
          "metadata": {
            "tags": []
          },
          "execution_count": 110
        }
      ]
    },
    {
      "cell_type": "code",
      "metadata": {
        "colab": {
          "base_uri": "https://localhost:8080/",
          "height": 306
        },
        "id": "H6KQ9DCWSnHh",
        "outputId": "45c80c6e-51e5-409a-ece7-5f8658f52c55"
      },
      "source": [
        "plt.title(\"Most Reviewed Free apps categories\", fontsize=20)\r\n",
        "plt.xlabel(\"Categories\", fontsize=15)\r\n",
        "plt.ylabel(\"Counts\", fontsize=15)\r\n",
        "plt.hist(df1.sort_values('Reviews', ascending = False).head(10).Category, color = 'red');"
      ],
      "execution_count": 111,
      "outputs": [
        {
          "output_type": "display_data",
          "data": {
            "image/png": "[encoded data removed]",
            "text/plain": [
              "<Figure size 432x288 with 1 Axes>"
            ]
          },
          "metadata": {
            "tags": [],
            "needs_background": "light"
          }
        }
      ]
    },
    {
      "cell_type": "code",
      "metadata": {
        "colab": {
          "base_uri": "https://localhost:8080/",
          "height": 461
        },
        "id": "tYzACfcXSpbU",
        "outputId": "f2055dd3-8354-43bd-d7e5-48a5e8509469"
      },
      "source": [
        "df2 = df[df['Type']== 'Paid']\r\n",
        "df2.sort_values('Reviews', ascending = False).head(10)"
      ],
      "execution_count": 112,
      "outputs": [
        {
          "output_type": "execute_result",
          "data": {
            "text/html": [
              "<div>\n",
              "<style scoped>\n",
              "    .dataframe tbody tr th:only-of-type {\n",
              "        vertical-align: middle;\n",
              "    }\n",
              "\n",
              "    .dataframe tbody tr th {\n",
              "        vertical-align: top;\n",
              "    }\n",
              "\n",
              "    .dataframe thead th {\n",
              "        text-align: right;\n",
              "    }\n",
              "</style>\n",
              "<table border=\"1\" class=\"dataframe\">\n",
              "  <thead>\n",
              "    <tr style=\"text-align: right;\">\n",
              "      <th></th>\n",
              "      <th>App</th>\n",
              "      <th>Category</th>\n",
              "      <th>Rating</th>\n",
              "      <th>Reviews</th>\n",
              "      <th>Size</th>\n",
              "      <th>Installs</th>\n",
              "      <th>Type</th>\n",
              "      <th>Price</th>\n",
              "      <th>Content Rating</th>\n",
              "      <th>Genres</th>\n",
              "      <th>Last Updated</th>\n",
              "      <th>Current Ver</th>\n",
              "      <th>Android Ver</th>\n",
              "      <th>year_updated</th>\n",
              "    </tr>\n",
              "  </thead>\n",
              "  <tbody>\n",
              "    <tr>\n",
              "      <th>2241</th>\n",
              "      <td>Minecraft</td>\n",
              "      <td>family</td>\n",
              "      <td>4.5</td>\n",
              "      <td>2376564</td>\n",
              "      <td>Varies with device</td>\n",
              "      <td>10000000</td>\n",
              "      <td>Paid</td>\n",
              "      <td>6.99</td>\n",
              "      <td>Everyone 10+</td>\n",
              "      <td>Arcade;Action &amp; Adventure</td>\n",
              "      <td>July 24, 2018</td>\n",
              "      <td>1.5.2.1</td>\n",
              "      <td>Varies with device</td>\n",
              "      <td>2018</td>\n",
              "    </tr>\n",
              "    <tr>\n",
              "      <th>4034</th>\n",
              "      <td>Hitman Sniper</td>\n",
              "      <td>game</td>\n",
              "      <td>4.6</td>\n",
              "      <td>408292</td>\n",
              "      <td>29M</td>\n",
              "      <td>10000000</td>\n",
              "      <td>Paid</td>\n",
              "      <td>0.99</td>\n",
              "      <td>Mature 17+</td>\n",
              "      <td>Action</td>\n",
              "      <td>July 12, 2018</td>\n",
              "      <td>1.7.110758</td>\n",
              "      <td>4.1 and up</td>\n",
              "      <td>2018</td>\n",
              "    </tr>\n",
              "    <tr>\n",
              "      <th>7417</th>\n",
              "      <td>Grand Theft Auto: San Andreas</td>\n",
              "      <td>game</td>\n",
              "      <td>4.4</td>\n",
              "      <td>348962</td>\n",
              "      <td>26M</td>\n",
              "      <td>1000000</td>\n",
              "      <td>Paid</td>\n",
              "      <td>6.99</td>\n",
              "      <td>Mature 17+</td>\n",
              "      <td>Action</td>\n",
              "      <td>March 21, 2015</td>\n",
              "      <td>1.08</td>\n",
              "      <td>3.0 and up</td>\n",
              "      <td>2015</td>\n",
              "    </tr>\n",
              "    <tr>\n",
              "      <th>8860</th>\n",
              "      <td>Bloons TD 5</td>\n",
              "      <td>family</td>\n",
              "      <td>4.6</td>\n",
              "      <td>190086</td>\n",
              "      <td>94M</td>\n",
              "      <td>1000000</td>\n",
              "      <td>Paid</td>\n",
              "      <td>2.99</td>\n",
              "      <td>Everyone</td>\n",
              "      <td>Strategy</td>\n",
              "      <td>July 13, 2018</td>\n",
              "      <td>3.16</td>\n",
              "      <td>2.3.3 and up</td>\n",
              "      <td>2018</td>\n",
              "    </tr>\n",
              "    <tr>\n",
              "      <th>9678</th>\n",
              "      <td>Where's My Water?</td>\n",
              "      <td>family</td>\n",
              "      <td>4.7</td>\n",
              "      <td>188740</td>\n",
              "      <td>69M</td>\n",
              "      <td>1000000</td>\n",
              "      <td>Paid</td>\n",
              "      <td>1.99</td>\n",
              "      <td>Everyone</td>\n",
              "      <td>Puzzle;Brain Games</td>\n",
              "      <td>July 5, 2018</td>\n",
              "      <td>1.16.0</td>\n",
              "      <td>4.2 and up</td>\n",
              "      <td>2018</td>\n",
              "    </tr>\n",
              "    <tr>\n",
              "      <th>2242</th>\n",
              "      <td>Card Wars - Adventure Time</td>\n",
              "      <td>family</td>\n",
              "      <td>4.3</td>\n",
              "      <td>129603</td>\n",
              "      <td>23M</td>\n",
              "      <td>1000000</td>\n",
              "      <td>Paid</td>\n",
              "      <td>2.99</td>\n",
              "      <td>Everyone 10+</td>\n",
              "      <td>Card;Action &amp; Adventure</td>\n",
              "      <td>February 11, 2016</td>\n",
              "      <td>1.11.0</td>\n",
              "      <td>2.3.3 and up</td>\n",
              "      <td>2016</td>\n",
              "    </tr>\n",
              "    <tr>\n",
              "      <th>5490</th>\n",
              "      <td>True Skate</td>\n",
              "      <td>sports</td>\n",
              "      <td>4.4</td>\n",
              "      <td>129409</td>\n",
              "      <td>73M</td>\n",
              "      <td>1000000</td>\n",
              "      <td>Paid</td>\n",
              "      <td>1.99</td>\n",
              "      <td>Everyone</td>\n",
              "      <td>Sports</td>\n",
              "      <td>August 4, 2018</td>\n",
              "      <td>1.5.1</td>\n",
              "      <td>4.0.3 and up</td>\n",
              "      <td>2018</td>\n",
              "    </tr>\n",
              "    <tr>\n",
              "      <th>5631</th>\n",
              "      <td>Five Nights at Freddy's</td>\n",
              "      <td>game</td>\n",
              "      <td>4.6</td>\n",
              "      <td>100805</td>\n",
              "      <td>50M</td>\n",
              "      <td>1000000</td>\n",
              "      <td>Paid</td>\n",
              "      <td>2.99</td>\n",
              "      <td>Teen</td>\n",
              "      <td>Action</td>\n",
              "      <td>December 2, 2014</td>\n",
              "      <td>1.85</td>\n",
              "      <td>2.3 and up</td>\n",
              "      <td>2014</td>\n",
              "    </tr>\n",
              "    <tr>\n",
              "      <th>3403</th>\n",
              "      <td>Beautiful Widgets Pro</td>\n",
              "      <td>personalization</td>\n",
              "      <td>4.2</td>\n",
              "      <td>97890</td>\n",
              "      <td>14M</td>\n",
              "      <td>1000000</td>\n",
              "      <td>Paid</td>\n",
              "      <td>2.49</td>\n",
              "      <td>Everyone</td>\n",
              "      <td>Personalization</td>\n",
              "      <td>August 24, 2016</td>\n",
              "      <td>5.7.8</td>\n",
              "      <td>2.3 and up</td>\n",
              "      <td>2016</td>\n",
              "    </tr>\n",
              "    <tr>\n",
              "      <th>8804</th>\n",
              "      <td>DraStic DS Emulator</td>\n",
              "      <td>game</td>\n",
              "      <td>4.6</td>\n",
              "      <td>87766</td>\n",
              "      <td>12M</td>\n",
              "      <td>1000000</td>\n",
              "      <td>Paid</td>\n",
              "      <td>4.99</td>\n",
              "      <td>Everyone</td>\n",
              "      <td>Action</td>\n",
              "      <td>July 19, 2016</td>\n",
              "      <td>r2.5.0.3a</td>\n",
              "      <td>2.3 and up</td>\n",
              "      <td>2016</td>\n",
              "    </tr>\n",
              "  </tbody>\n",
              "</table>\n",
              "</div>"
            ],
            "text/plain": [
              "                                App  ... year_updated\n",
              "2241                      Minecraft  ...         2018\n",
              "4034                  Hitman Sniper  ...         2018\n",
              "7417  Grand Theft Auto: San Andreas  ...         2015\n",
              "8860                    Bloons TD 5  ...         2018\n",
              "9678              Where's My Water?  ...         2018\n",
              "2242     Card Wars - Adventure Time  ...         2016\n",
              "5490                     True Skate  ...         2018\n",
              "5631        Five Nights at Freddy's  ...         2014\n",
              "3403          Beautiful Widgets Pro  ...         2016\n",
              "8804            DraStic DS Emulator  ...         2016\n",
              "\n",
              "[10 rows x 14 columns]"
            ]
          },
          "metadata": {
            "tags": []
          },
          "execution_count": 112
        }
      ]
    },
    {
      "cell_type": "code",
      "metadata": {
        "colab": {
          "base_uri": "https://localhost:8080/",
          "height": 302
        },
        "id": "JpAUoXx0SyMb",
        "outputId": "0f677e45-8aa0-40c0-e8c7-c656b73b790a"
      },
      "source": [
        "plt.title(\"Top 10 Reviewed Paid apps categories\", fontsize=15)\r\n",
        "plt.xlabel(\"Categories\", fontsize=15)\r\n",
        "plt.ylabel(\"Counts\", fontsize=15)\r\n",
        "plt.hist(df2.sort_values('Reviews', ascending = False).head(10).Category, color = 'red');"
      ],
      "execution_count": 113,
      "outputs": [
        {
          "output_type": "display_data",
          "data": {
            "image/png": "[encoded data removed]",
            "text/plain": [
              "<Figure size 432x288 with 1 Axes>"
            ]
          },
          "metadata": {
            "tags": [],
            "needs_background": "light"
          }
        }
      ]
    },
    {
      "cell_type": "markdown",
      "metadata": {
        "id": "5XZKsqb3X5qO"
      },
      "source": [
        "\r\n",
        "\r\n",
        "---\r\n",
        "\r\n"
      ]
    },
    {
      "cell_type": "markdown",
      "metadata": {
        "id": "cvNRfHCBS6wy"
      },
      "source": [
        "### **Out of paid apps, which app are most cheap and how many are there??**"
      ]
    },
    {
      "cell_type": "code",
      "metadata": {
        "colab": {
          "base_uri": "https://localhost:8080/",
          "height": 586
        },
        "id": "8RjkaRXgS5WC",
        "outputId": "6628fcdd-3f47-482f-fae5-b6c692859320"
      },
      "source": [
        "df2.sort_values('Price', ascending = False)"
      ],
      "execution_count": 114,
      "outputs": [
        {
          "output_type": "execute_result",
          "data": {
            "text/html": [
              "<div>\n",
              "<style scoped>\n",
              "    .dataframe tbody tr th:only-of-type {\n",
              "        vertical-align: middle;\n",
              "    }\n",
              "\n",
              "    .dataframe tbody tr th {\n",
              "        vertical-align: top;\n",
              "    }\n",
              "\n",
              "    .dataframe thead th {\n",
              "        text-align: right;\n",
              "    }\n",
              "</style>\n",
              "<table border=\"1\" class=\"dataframe\">\n",
              "  <thead>\n",
              "    <tr style=\"text-align: right;\">\n",
              "      <th></th>\n",
              "      <th>App</th>\n",
              "      <th>Category</th>\n",
              "      <th>Rating</th>\n",
              "      <th>Reviews</th>\n",
              "      <th>Size</th>\n",
              "      <th>Installs</th>\n",
              "      <th>Type</th>\n",
              "      <th>Price</th>\n",
              "      <th>Content Rating</th>\n",
              "      <th>Genres</th>\n",
              "      <th>Last Updated</th>\n",
              "      <th>Current Ver</th>\n",
              "      <th>Android Ver</th>\n",
              "      <th>year_updated</th>\n",
              "    </tr>\n",
              "  </thead>\n",
              "  <tbody>\n",
              "    <tr>\n",
              "      <th>4367</th>\n",
              "      <td>I'm Rich - Trump Edition</td>\n",
              "      <td>lifestyle</td>\n",
              "      <td>3.6</td>\n",
              "      <td>275</td>\n",
              "      <td>7.3M</td>\n",
              "      <td>10000</td>\n",
              "      <td>Paid</td>\n",
              "      <td>400.00</td>\n",
              "      <td>Everyone</td>\n",
              "      <td>Lifestyle</td>\n",
              "      <td>May 3, 2018</td>\n",
              "      <td>1.0.1</td>\n",
              "      <td>4.1 and up</td>\n",
              "      <td>2018</td>\n",
              "    </tr>\n",
              "    <tr>\n",
              "      <th>5364</th>\n",
              "      <td>I am rich (Most expensive app)</td>\n",
              "      <td>finance</td>\n",
              "      <td>4.1</td>\n",
              "      <td>129</td>\n",
              "      <td>2.7M</td>\n",
              "      <td>1000</td>\n",
              "      <td>Paid</td>\n",
              "      <td>399.99</td>\n",
              "      <td>Teen</td>\n",
              "      <td>Finance</td>\n",
              "      <td>December 6, 2017</td>\n",
              "      <td>2</td>\n",
              "      <td>4.0.3 and up</td>\n",
              "      <td>2017</td>\n",
              "    </tr>\n",
              "    <tr>\n",
              "      <th>4197</th>\n",
              "      <td>most expensive app (H)</td>\n",
              "      <td>family</td>\n",
              "      <td>4.3</td>\n",
              "      <td>6</td>\n",
              "      <td>1.5M</td>\n",
              "      <td>100</td>\n",
              "      <td>Paid</td>\n",
              "      <td>399.99</td>\n",
              "      <td>Everyone</td>\n",
              "      <td>Entertainment</td>\n",
              "      <td>July 16, 2018</td>\n",
              "      <td>1.0</td>\n",
              "      <td>7.0 and up</td>\n",
              "      <td>2018</td>\n",
              "    </tr>\n",
              "    <tr>\n",
              "      <th>5358</th>\n",
              "      <td>I am Rich!</td>\n",
              "      <td>finance</td>\n",
              "      <td>3.8</td>\n",
              "      <td>93</td>\n",
              "      <td>22M</td>\n",
              "      <td>1000</td>\n",
              "      <td>Paid</td>\n",
              "      <td>399.99</td>\n",
              "      <td>Everyone</td>\n",
              "      <td>Finance</td>\n",
              "      <td>December 11, 2017</td>\n",
              "      <td>1.0</td>\n",
              "      <td>4.1 and up</td>\n",
              "      <td>2017</td>\n",
              "    </tr>\n",
              "    <tr>\n",
              "      <th>5369</th>\n",
              "      <td>I am Rich</td>\n",
              "      <td>finance</td>\n",
              "      <td>4.3</td>\n",
              "      <td>180</td>\n",
              "      <td>3.8M</td>\n",
              "      <td>5000</td>\n",
              "      <td>Paid</td>\n",
              "      <td>399.99</td>\n",
              "      <td>Everyone</td>\n",
              "      <td>Finance</td>\n",
              "      <td>March 22, 2018</td>\n",
              "      <td>1.0</td>\n",
              "      <td>4.2 and up</td>\n",
              "      <td>2018</td>\n",
              "    </tr>\n",
              "    <tr>\n",
              "      <th>...</th>\n",
              "      <td>...</td>\n",
              "      <td>...</td>\n",
              "      <td>...</td>\n",
              "      <td>...</td>\n",
              "      <td>...</td>\n",
              "      <td>...</td>\n",
              "      <td>...</td>\n",
              "      <td>...</td>\n",
              "      <td>...</td>\n",
              "      <td>...</td>\n",
              "      <td>...</td>\n",
              "      <td>...</td>\n",
              "      <td>...</td>\n",
              "      <td>...</td>\n",
              "    </tr>\n",
              "    <tr>\n",
              "      <th>6936</th>\n",
              "      <td>Hitman GO</td>\n",
              "      <td>family</td>\n",
              "      <td>4.6</td>\n",
              "      <td>84114</td>\n",
              "      <td>23M</td>\n",
              "      <td>500000</td>\n",
              "      <td>Paid</td>\n",
              "      <td>0.99</td>\n",
              "      <td>Everyone 10+</td>\n",
              "      <td>Puzzle</td>\n",
              "      <td>July 5, 2018</td>\n",
              "      <td>1.13.108869</td>\n",
              "      <td>2.3.3 and up</td>\n",
              "      <td>2018</td>\n",
              "    </tr>\n",
              "    <tr>\n",
              "      <th>6985</th>\n",
              "      <td>Trinomial Factoring Wizard</td>\n",
              "      <td>tools</td>\n",
              "      <td>4.0</td>\n",
              "      <td>22</td>\n",
              "      <td>82k</td>\n",
              "      <td>1000</td>\n",
              "      <td>Paid</td>\n",
              "      <td>0.99</td>\n",
              "      <td>Everyone</td>\n",
              "      <td>Tools</td>\n",
              "      <td>October 10, 2014</td>\n",
              "      <td>2.4</td>\n",
              "      <td>2.3 and up</td>\n",
              "      <td>2014</td>\n",
              "    </tr>\n",
              "    <tr>\n",
              "      <th>9170</th>\n",
              "      <td>Stickman Legends: Shadow Wars</td>\n",
              "      <td>game</td>\n",
              "      <td>4.4</td>\n",
              "      <td>38419</td>\n",
              "      <td>100M</td>\n",
              "      <td>1000000</td>\n",
              "      <td>Paid</td>\n",
              "      <td>0.99</td>\n",
              "      <td>Everyone 10+</td>\n",
              "      <td>Action</td>\n",
              "      <td>August 3, 2018</td>\n",
              "      <td>2.3.24</td>\n",
              "      <td>4.1 and up</td>\n",
              "      <td>2018</td>\n",
              "    </tr>\n",
              "    <tr>\n",
              "      <th>9165</th>\n",
              "      <td>League of Stickman 2018- Ninja Arena PVP(Dream...</td>\n",
              "      <td>game</td>\n",
              "      <td>4.4</td>\n",
              "      <td>32496</td>\n",
              "      <td>99M</td>\n",
              "      <td>1000000</td>\n",
              "      <td>Paid</td>\n",
              "      <td>0.99</td>\n",
              "      <td>Teen</td>\n",
              "      <td>Action</td>\n",
              "      <td>July 3, 2018</td>\n",
              "      <td>5.3.3</td>\n",
              "      <td>2.3 and up</td>\n",
              "      <td>2018</td>\n",
              "    </tr>\n",
              "    <tr>\n",
              "      <th>5660</th>\n",
              "      <td>BringGo AU &amp; NZ</td>\n",
              "      <td>maps_and_navigation</td>\n",
              "      <td>2.8</td>\n",
              "      <td>440</td>\n",
              "      <td>23M</td>\n",
              "      <td>10000</td>\n",
              "      <td>Paid</td>\n",
              "      <td>0.99</td>\n",
              "      <td>Everyone</td>\n",
              "      <td>Maps &amp; Navigation</td>\n",
              "      <td>May 10, 2018</td>\n",
              "      <td>2.5.9</td>\n",
              "      <td>2.3.3 and up</td>\n",
              "      <td>2018</td>\n",
              "    </tr>\n",
              "  </tbody>\n",
              "</table>\n",
              "<p>602 rows × 14 columns</p>\n",
              "</div>"
            ],
            "text/plain": [
              "                                                    App  ... year_updated\n",
              "4367                           I'm Rich - Trump Edition  ...         2018\n",
              "5364                     I am rich (Most expensive app)  ...         2017\n",
              "4197                             most expensive app (H)  ...         2018\n",
              "5358                                         I am Rich!  ...         2017\n",
              "5369                                          I am Rich  ...         2018\n",
              "...                                                 ...  ...          ...\n",
              "6936                                          Hitman GO  ...         2018\n",
              "6985                         Trinomial Factoring Wizard  ...         2014\n",
              "9170                      Stickman Legends: Shadow Wars  ...         2018\n",
              "9165  League of Stickman 2018- Ninja Arena PVP(Dream...  ...         2018\n",
              "5660                                    BringGo AU & NZ  ...         2018\n",
              "\n",
              "[602 rows x 14 columns]"
            ]
          },
          "metadata": {
            "tags": []
          },
          "execution_count": 114
        }
      ]
    },
    {
      "cell_type": "code",
      "metadata": {
        "colab": {
          "base_uri": "https://localhost:8080/",
          "height": 519
        },
        "id": "TyWlBM_YTDg0",
        "outputId": "aba7b3a2-ff10-4118-b70b-e896202954e1"
      },
      "source": [
        "df2.Price.min()\r\n",
        "df2[df2['Price']== df2.Price.min()]"
      ],
      "execution_count": 115,
      "outputs": [
        {
          "output_type": "execute_result",
          "data": {
            "text/html": [
              "<div>\n",
              "<style scoped>\n",
              "    .dataframe tbody tr th:only-of-type {\n",
              "        vertical-align: middle;\n",
              "    }\n",
              "\n",
              "    .dataframe tbody tr th {\n",
              "        vertical-align: top;\n",
              "    }\n",
              "\n",
              "    .dataframe thead th {\n",
              "        text-align: right;\n",
              "    }\n",
              "</style>\n",
              "<table border=\"1\" class=\"dataframe\">\n",
              "  <thead>\n",
              "    <tr style=\"text-align: right;\">\n",
              "      <th></th>\n",
              "      <th>App</th>\n",
              "      <th>Category</th>\n",
              "      <th>Rating</th>\n",
              "      <th>Reviews</th>\n",
              "      <th>Size</th>\n",
              "      <th>Installs</th>\n",
              "      <th>Type</th>\n",
              "      <th>Price</th>\n",
              "      <th>Content Rating</th>\n",
              "      <th>Genres</th>\n",
              "      <th>Last Updated</th>\n",
              "      <th>Current Ver</th>\n",
              "      <th>Android Ver</th>\n",
              "      <th>year_updated</th>\n",
              "    </tr>\n",
              "  </thead>\n",
              "  <tbody>\n",
              "    <tr>\n",
              "      <th>2171</th>\n",
              "      <td>All-in-One Mahjong 3</td>\n",
              "      <td>family</td>\n",
              "      <td>4.4</td>\n",
              "      <td>38</td>\n",
              "      <td>16M</td>\n",
              "      <td>100</td>\n",
              "      <td>Paid</td>\n",
              "      <td>0.99</td>\n",
              "      <td>Everyone</td>\n",
              "      <td>Board;Brain Games</td>\n",
              "      <td>June 14, 2018</td>\n",
              "      <td>20180609</td>\n",
              "      <td>4.0 and up</td>\n",
              "      <td>2018</td>\n",
              "    </tr>\n",
              "    <tr>\n",
              "      <th>2172</th>\n",
              "      <td>World Racers family board game</td>\n",
              "      <td>family</td>\n",
              "      <td>4.8</td>\n",
              "      <td>4</td>\n",
              "      <td>42M</td>\n",
              "      <td>100</td>\n",
              "      <td>Paid</td>\n",
              "      <td>0.99</td>\n",
              "      <td>Everyone</td>\n",
              "      <td>Board;Pretend Play</td>\n",
              "      <td>September 3, 2015</td>\n",
              "      <td>1.1</td>\n",
              "      <td>5.1 and up</td>\n",
              "      <td>2015</td>\n",
              "    </tr>\n",
              "    <tr>\n",
              "      <th>2173</th>\n",
              "      <td>SweetLand — Family Board Game</td>\n",
              "      <td>family</td>\n",
              "      <td>4.2</td>\n",
              "      <td>38</td>\n",
              "      <td>47M</td>\n",
              "      <td>1000</td>\n",
              "      <td>Paid</td>\n",
              "      <td>0.99</td>\n",
              "      <td>Everyone</td>\n",
              "      <td>Casual;Pretend Play</td>\n",
              "      <td>November 14, 2014</td>\n",
              "      <td>1.2</td>\n",
              "      <td>2.3.3 and up</td>\n",
              "      <td>2014</td>\n",
              "    </tr>\n",
              "    <tr>\n",
              "      <th>2244</th>\n",
              "      <td>iBP Blood Pressure</td>\n",
              "      <td>medical</td>\n",
              "      <td>4.4</td>\n",
              "      <td>578</td>\n",
              "      <td>704k</td>\n",
              "      <td>10000</td>\n",
              "      <td>Paid</td>\n",
              "      <td>0.99</td>\n",
              "      <td>Everyone</td>\n",
              "      <td>Medical</td>\n",
              "      <td>November 30, 2014</td>\n",
              "      <td>7.0.1</td>\n",
              "      <td>2.2 and up</td>\n",
              "      <td>2014</td>\n",
              "    </tr>\n",
              "    <tr>\n",
              "      <th>2275</th>\n",
              "      <td>Blood Pressure Companion</td>\n",
              "      <td>medical</td>\n",
              "      <td>4.2</td>\n",
              "      <td>178</td>\n",
              "      <td>4.8M</td>\n",
              "      <td>1000</td>\n",
              "      <td>Paid</td>\n",
              "      <td>0.99</td>\n",
              "      <td>Everyone</td>\n",
              "      <td>Medical</td>\n",
              "      <td>July 22, 2018</td>\n",
              "      <td>4.1.5 (Steglitz)</td>\n",
              "      <td>4.1 and up</td>\n",
              "      <td>2018</td>\n",
              "    </tr>\n",
              "    <tr>\n",
              "      <th>...</th>\n",
              "      <td>...</td>\n",
              "      <td>...</td>\n",
              "      <td>...</td>\n",
              "      <td>...</td>\n",
              "      <td>...</td>\n",
              "      <td>...</td>\n",
              "      <td>...</td>\n",
              "      <td>...</td>\n",
              "      <td>...</td>\n",
              "      <td>...</td>\n",
              "      <td>...</td>\n",
              "      <td>...</td>\n",
              "      <td>...</td>\n",
              "      <td>...</td>\n",
              "    </tr>\n",
              "    <tr>\n",
              "      <th>10586</th>\n",
              "      <td>FL Racing Manager 2015 Pro</td>\n",
              "      <td>sports</td>\n",
              "      <td>4.4</td>\n",
              "      <td>656</td>\n",
              "      <td>22M</td>\n",
              "      <td>5000</td>\n",
              "      <td>Paid</td>\n",
              "      <td>0.99</td>\n",
              "      <td>Everyone</td>\n",
              "      <td>Sports</td>\n",
              "      <td>March 12, 2016</td>\n",
              "      <td>0.858</td>\n",
              "      <td>3.0 and up</td>\n",
              "      <td>2016</td>\n",
              "    </tr>\n",
              "    <tr>\n",
              "      <th>10675</th>\n",
              "      <td>Circle Colors Pack-FN Theme</td>\n",
              "      <td>personalization</td>\n",
              "      <td>4.2</td>\n",
              "      <td>6</td>\n",
              "      <td>89k</td>\n",
              "      <td>50</td>\n",
              "      <td>Paid</td>\n",
              "      <td>0.99</td>\n",
              "      <td>Everyone</td>\n",
              "      <td>Personalization</td>\n",
              "      <td>August 9, 2013</td>\n",
              "      <td>1.0</td>\n",
              "      <td>2.2 and up</td>\n",
              "      <td>2013</td>\n",
              "    </tr>\n",
              "    <tr>\n",
              "      <th>10682</th>\n",
              "      <td>Fruit Ninja Classic</td>\n",
              "      <td>game</td>\n",
              "      <td>4.3</td>\n",
              "      <td>85468</td>\n",
              "      <td>36M</td>\n",
              "      <td>1000000</td>\n",
              "      <td>Paid</td>\n",
              "      <td>0.99</td>\n",
              "      <td>Everyone</td>\n",
              "      <td>Arcade</td>\n",
              "      <td>June 8, 2018</td>\n",
              "      <td>2.4.1.485300</td>\n",
              "      <td>4.0.3 and up</td>\n",
              "      <td>2018</td>\n",
              "    </tr>\n",
              "    <tr>\n",
              "      <th>10690</th>\n",
              "      <td>FO Bixby</td>\n",
              "      <td>personalization</td>\n",
              "      <td>5.0</td>\n",
              "      <td>5</td>\n",
              "      <td>861k</td>\n",
              "      <td>100</td>\n",
              "      <td>Paid</td>\n",
              "      <td>0.99</td>\n",
              "      <td>Everyone</td>\n",
              "      <td>Personalization</td>\n",
              "      <td>April 25, 2018</td>\n",
              "      <td>0.2</td>\n",
              "      <td>7.0 and up</td>\n",
              "      <td>2018</td>\n",
              "    </tr>\n",
              "    <tr>\n",
              "      <th>10697</th>\n",
              "      <td>Mu.F.O.</td>\n",
              "      <td>game</td>\n",
              "      <td>5.0</td>\n",
              "      <td>2</td>\n",
              "      <td>16M</td>\n",
              "      <td>1</td>\n",
              "      <td>Paid</td>\n",
              "      <td>0.99</td>\n",
              "      <td>Everyone</td>\n",
              "      <td>Arcade</td>\n",
              "      <td>March 3, 2017</td>\n",
              "      <td>1.0</td>\n",
              "      <td>2.3 and up</td>\n",
              "      <td>2017</td>\n",
              "    </tr>\n",
              "  </tbody>\n",
              "</table>\n",
              "<p>103 rows × 14 columns</p>\n",
              "</div>"
            ],
            "text/plain": [
              "                                  App  ... year_updated\n",
              "2171             All-in-One Mahjong 3  ...         2018\n",
              "2172   World Racers family board game  ...         2015\n",
              "2173    SweetLand — Family Board Game  ...         2014\n",
              "2244               iBP Blood Pressure  ...         2014\n",
              "2275         Blood Pressure Companion  ...         2018\n",
              "...                               ...  ...          ...\n",
              "10586      FL Racing Manager 2015 Pro  ...         2016\n",
              "10675     Circle Colors Pack-FN Theme  ...         2013\n",
              "10682             Fruit Ninja Classic  ...         2018\n",
              "10690                        FO Bixby  ...         2018\n",
              "10697                         Mu.F.O.  ...         2017\n",
              "\n",
              "[103 rows x 14 columns]"
            ]
          },
          "metadata": {
            "tags": []
          },
          "execution_count": 115
        }
      ]
    },
    {
      "cell_type": "markdown",
      "metadata": {
        "id": "d6LNd0u5TeBU"
      },
      "source": [
        "**There are 103 apps which are priced at $0.99 and are the cheapest among the paid apps**"
      ]
    },
    {
      "cell_type": "markdown",
      "metadata": {
        "id": "p7u12zfZX8Gn"
      },
      "source": [
        "\r\n",
        "\r\n",
        "---\r\n",
        "\r\n"
      ]
    },
    {
      "cell_type": "markdown",
      "metadata": {
        "id": "RJQU4ODKTlOI"
      },
      "source": [
        "### **Which category has the highest number of paid apps?**"
      ]
    },
    {
      "cell_type": "code",
      "metadata": {
        "colab": {
          "base_uri": "https://localhost:8080/",
          "height": 360
        },
        "id": "ic2iUbKaTcUK",
        "outputId": "3bb36907-9629-463e-da7f-681f4451a9e1"
      },
      "source": [
        "df3 = df[df['Type'] == 'Paid']\r\n",
        "\r\n",
        "cat = df3.Category.value_counts()[:10].to_dict().keys()\r\n",
        "counts = df3.Category.value_counts()[:10].to_dict().values()\r\n",
        "\r\n",
        "plt.title(\"Top 10 categories with highest number of paid apps\", fontsize = 10)\r\n",
        "plt.bar(cat, counts)\r\n",
        "plt.xlabel('Categories')\r\n",
        "plt.ylabel('Counts')\r\n",
        "plt.xticks(rotation = 90);"
      ],
      "execution_count": 116,
      "outputs": [
        {
          "output_type": "display_data",
          "data": {
            "image/png": "[encoded data removed]",
            "text/plain": [
              "<Figure size 432x288 with 1 Axes>"
            ]
          },
          "metadata": {
            "tags": [],
            "needs_background": "light"
          }
        }
      ]
    },
    {
      "cell_type": "markdown",
      "metadata": {
        "id": "Wu-j7QkxUEkb"
      },
      "source": [
        "**The Category 'family' has the highest number of paid apps**"
      ]
    },
    {
      "cell_type": "markdown",
      "metadata": {
        "id": "lySY8Dl1X-U5"
      },
      "source": [
        "\r\n",
        "\r\n",
        "---\r\n",
        "\r\n"
      ]
    },
    {
      "cell_type": "markdown",
      "metadata": {
        "id": "CsT2pIUcUJbw"
      },
      "source": [
        "### **Which paid app has highest number of installs?**"
      ]
    },
    {
      "cell_type": "code",
      "metadata": {
        "colab": {
          "base_uri": "https://localhost:8080/",
          "height": 545
        },
        "id": "Aji6sWj0T7_z",
        "outputId": "613f85e2-2194-44bf-8b27-85e5ffec2207"
      },
      "source": [
        "df3.sort_values('Installs', ascending = False).head(10)"
      ],
      "execution_count": 117,
      "outputs": [
        {
          "output_type": "execute_result",
          "data": {
            "text/html": [
              "<div>\n",
              "<style scoped>\n",
              "    .dataframe tbody tr th:only-of-type {\n",
              "        vertical-align: middle;\n",
              "    }\n",
              "\n",
              "    .dataframe tbody tr th {\n",
              "        vertical-align: top;\n",
              "    }\n",
              "\n",
              "    .dataframe thead th {\n",
              "        text-align: right;\n",
              "    }\n",
              "</style>\n",
              "<table border=\"1\" class=\"dataframe\">\n",
              "  <thead>\n",
              "    <tr style=\"text-align: right;\">\n",
              "      <th></th>\n",
              "      <th>App</th>\n",
              "      <th>Category</th>\n",
              "      <th>Rating</th>\n",
              "      <th>Reviews</th>\n",
              "      <th>Size</th>\n",
              "      <th>Installs</th>\n",
              "      <th>Type</th>\n",
              "      <th>Price</th>\n",
              "      <th>Content Rating</th>\n",
              "      <th>Genres</th>\n",
              "      <th>Last Updated</th>\n",
              "      <th>Current Ver</th>\n",
              "      <th>Android Ver</th>\n",
              "      <th>year_updated</th>\n",
              "    </tr>\n",
              "  </thead>\n",
              "  <tbody>\n",
              "    <tr>\n",
              "      <th>2241</th>\n",
              "      <td>Minecraft</td>\n",
              "      <td>family</td>\n",
              "      <td>4.5</td>\n",
              "      <td>2376564</td>\n",
              "      <td>Varies with device</td>\n",
              "      <td>10000000</td>\n",
              "      <td>Paid</td>\n",
              "      <td>6.99</td>\n",
              "      <td>Everyone 10+</td>\n",
              "      <td>Arcade;Action &amp; Adventure</td>\n",
              "      <td>July 24, 2018</td>\n",
              "      <td>1.5.2.1</td>\n",
              "      <td>Varies with device</td>\n",
              "      <td>2018</td>\n",
              "    </tr>\n",
              "    <tr>\n",
              "      <th>4034</th>\n",
              "      <td>Hitman Sniper</td>\n",
              "      <td>game</td>\n",
              "      <td>4.6</td>\n",
              "      <td>408292</td>\n",
              "      <td>29M</td>\n",
              "      <td>10000000</td>\n",
              "      <td>Paid</td>\n",
              "      <td>0.99</td>\n",
              "      <td>Mature 17+</td>\n",
              "      <td>Action</td>\n",
              "      <td>July 12, 2018</td>\n",
              "      <td>1.7.110758</td>\n",
              "      <td>4.1 and up</td>\n",
              "      <td>2018</td>\n",
              "    </tr>\n",
              "    <tr>\n",
              "      <th>9165</th>\n",
              "      <td>League of Stickman 2018- Ninja Arena PVP(Dream...</td>\n",
              "      <td>game</td>\n",
              "      <td>4.4</td>\n",
              "      <td>32496</td>\n",
              "      <td>99M</td>\n",
              "      <td>1000000</td>\n",
              "      <td>Paid</td>\n",
              "      <td>0.99</td>\n",
              "      <td>Teen</td>\n",
              "      <td>Action</td>\n",
              "      <td>July 3, 2018</td>\n",
              "      <td>5.3.3</td>\n",
              "      <td>2.3 and up</td>\n",
              "      <td>2018</td>\n",
              "    </tr>\n",
              "    <tr>\n",
              "      <th>2242</th>\n",
              "      <td>Card Wars - Adventure Time</td>\n",
              "      <td>family</td>\n",
              "      <td>4.3</td>\n",
              "      <td>129603</td>\n",
              "      <td>23M</td>\n",
              "      <td>1000000</td>\n",
              "      <td>Paid</td>\n",
              "      <td>2.99</td>\n",
              "      <td>Everyone 10+</td>\n",
              "      <td>Card;Action &amp; Adventure</td>\n",
              "      <td>February 11, 2016</td>\n",
              "      <td>1.11.0</td>\n",
              "      <td>2.3.3 and up</td>\n",
              "      <td>2016</td>\n",
              "    </tr>\n",
              "    <tr>\n",
              "      <th>9151</th>\n",
              "      <td>Lost Journey (Dreamsky)</td>\n",
              "      <td>game</td>\n",
              "      <td>4.5</td>\n",
              "      <td>32344</td>\n",
              "      <td>29M</td>\n",
              "      <td>1000000</td>\n",
              "      <td>Paid</td>\n",
              "      <td>0.99</td>\n",
              "      <td>Everyone</td>\n",
              "      <td>Adventure</td>\n",
              "      <td>October 21, 2016</td>\n",
              "      <td>1.3.12</td>\n",
              "      <td>3.0 and up</td>\n",
              "      <td>2016</td>\n",
              "    </tr>\n",
              "    <tr>\n",
              "      <th>3405</th>\n",
              "      <td>HD Widgets</td>\n",
              "      <td>personalization</td>\n",
              "      <td>4.3</td>\n",
              "      <td>58617</td>\n",
              "      <td>26M</td>\n",
              "      <td>1000000</td>\n",
              "      <td>Paid</td>\n",
              "      <td>0.99</td>\n",
              "      <td>Everyone</td>\n",
              "      <td>Personalization</td>\n",
              "      <td>December 7, 2016</td>\n",
              "      <td>4.3.2</td>\n",
              "      <td>4.4 and up</td>\n",
              "      <td>2016</td>\n",
              "    </tr>\n",
              "    <tr>\n",
              "      <th>3403</th>\n",
              "      <td>Beautiful Widgets Pro</td>\n",
              "      <td>personalization</td>\n",
              "      <td>4.2</td>\n",
              "      <td>97890</td>\n",
              "      <td>14M</td>\n",
              "      <td>1000000</td>\n",
              "      <td>Paid</td>\n",
              "      <td>2.49</td>\n",
              "      <td>Everyone</td>\n",
              "      <td>Personalization</td>\n",
              "      <td>August 24, 2016</td>\n",
              "      <td>5.7.8</td>\n",
              "      <td>2.3 and up</td>\n",
              "      <td>2016</td>\n",
              "    </tr>\n",
              "    <tr>\n",
              "      <th>5631</th>\n",
              "      <td>Five Nights at Freddy's</td>\n",
              "      <td>game</td>\n",
              "      <td>4.6</td>\n",
              "      <td>100805</td>\n",
              "      <td>50M</td>\n",
              "      <td>1000000</td>\n",
              "      <td>Paid</td>\n",
              "      <td>2.99</td>\n",
              "      <td>Teen</td>\n",
              "      <td>Action</td>\n",
              "      <td>December 2, 2014</td>\n",
              "      <td>1.85</td>\n",
              "      <td>2.3 and up</td>\n",
              "      <td>2014</td>\n",
              "    </tr>\n",
              "    <tr>\n",
              "      <th>6675</th>\n",
              "      <td>Infinity Dungeon VIP</td>\n",
              "      <td>family</td>\n",
              "      <td>4.3</td>\n",
              "      <td>21804</td>\n",
              "      <td>44M</td>\n",
              "      <td>1000000</td>\n",
              "      <td>Paid</td>\n",
              "      <td>0.99</td>\n",
              "      <td>Everyone 10+</td>\n",
              "      <td>Role Playing</td>\n",
              "      <td>July 3, 2018</td>\n",
              "      <td>2.6.6</td>\n",
              "      <td>2.3 and up</td>\n",
              "      <td>2018</td>\n",
              "    </tr>\n",
              "    <tr>\n",
              "      <th>5578</th>\n",
              "      <td>Sleep as Android Unlock</td>\n",
              "      <td>lifestyle</td>\n",
              "      <td>4.5</td>\n",
              "      <td>23966</td>\n",
              "      <td>872k</td>\n",
              "      <td>1000000</td>\n",
              "      <td>Paid</td>\n",
              "      <td>5.99</td>\n",
              "      <td>Everyone</td>\n",
              "      <td>Lifestyle</td>\n",
              "      <td>June 27, 2018</td>\n",
              "      <td>20180608</td>\n",
              "      <td>4.0 and up</td>\n",
              "      <td>2018</td>\n",
              "    </tr>\n",
              "  </tbody>\n",
              "</table>\n",
              "</div>"
            ],
            "text/plain": [
              "                                                    App  ... year_updated\n",
              "2241                                          Minecraft  ...         2018\n",
              "4034                                      Hitman Sniper  ...         2018\n",
              "9165  League of Stickman 2018- Ninja Arena PVP(Dream...  ...         2018\n",
              "2242                         Card Wars - Adventure Time  ...         2016\n",
              "9151                            Lost Journey (Dreamsky)  ...         2016\n",
              "3405                                         HD Widgets  ...         2016\n",
              "3403                              Beautiful Widgets Pro  ...         2016\n",
              "5631                            Five Nights at Freddy's  ...         2014\n",
              "6675                               Infinity Dungeon VIP  ...         2018\n",
              "5578                            Sleep as Android Unlock  ...         2018\n",
              "\n",
              "[10 rows x 14 columns]"
            ]
          },
          "metadata": {
            "tags": []
          },
          "execution_count": 117
        }
      ]
    },
    {
      "cell_type": "markdown",
      "metadata": {
        "id": "f98M3TRxUQok"
      },
      "source": [
        "**Among the paid apps 'Minecraft' has the highest number of installs**"
      ]
    },
    {
      "cell_type": "markdown",
      "metadata": {
        "id": "X0RwwENNYAQy"
      },
      "source": [
        "\r\n",
        "\r\n",
        "---\r\n",
        "\r\n"
      ]
    },
    {
      "cell_type": "markdown",
      "metadata": {
        "id": "88vwlLf8UVyy"
      },
      "source": [
        "### **What are the average number of installs in categories?**"
      ]
    },
    {
      "cell_type": "code",
      "metadata": {
        "colab": {
          "base_uri": "https://localhost:8080/"
        },
        "id": "y-maJ1KfUOz6",
        "outputId": "25428775-5403-4dab-8b24-43366172d96e"
      },
      "source": [
        "df_cat = df.groupby('Category')['Installs'].mean()\r\n",
        "df_cat"
      ],
      "execution_count": 118,
      "outputs": [
        {
          "output_type": "execute_result",
          "data": {
            "text/plain": [
              "Category\n",
              "art_and_design         1.903802e+06\n",
              "auto_and_vehicles      7.278055e+05\n",
              "beauty                 6.408619e+05\n",
              "books_and_reference    9.856755e+06\n",
              "business               2.650259e+06\n",
              "comics                 8.320574e+05\n",
              "communication          4.311813e+07\n",
              "dating                 1.051585e+06\n",
              "education              2.990271e+06\n",
              "entertainment          2.072216e+07\n",
              "events                 3.544313e+05\n",
              "family                 2.755090e+06\n",
              "finance                1.507657e+06\n",
              "food_and_drink         2.251891e+06\n",
              "game                   1.521794e+07\n",
              "health_and_fitness     4.688550e+06\n",
              "house_and_home         1.565839e+06\n",
              "libraries_and_demo     8.108413e+05\n",
              "lifestyle              1.673559e+06\n",
              "maps_and_navigation    4.264979e+06\n",
              "medical                1.315610e+05\n",
              "news_and_magazines     1.161329e+07\n",
              "parenting              6.223222e+05\n",
              "personalization        5.176831e+06\n",
              "photography            1.767735e+07\n",
              "productivity           1.924608e+07\n",
              "shopping               7.779620e+06\n",
              "social                 2.703370e+07\n",
              "sports                 4.217044e+06\n",
              "tools                  1.115652e+07\n",
              "travel_and_local       1.548053e+07\n",
              "video_players          2.653241e+07\n",
              "weather                5.015229e+06\n",
              "Name: Installs, dtype: float64"
            ]
          },
          "metadata": {
            "tags": []
          },
          "execution_count": 118
        }
      ]
    },
    {
      "cell_type": "markdown",
      "metadata": {
        "id": "dNRgtukCUd6u"
      },
      "source": [
        "**Following Categories have highest average number of installs**\r\n",
        "   * Communication\r\n",
        "   * Entertainment\r\n",
        "   * Game\r\n",
        "   * News and magazines\r\n",
        "   * Productivity\r\n",
        "   * Tools\r\n",
        "   * Video players\r\n",
        "   * Travels and local\r\n"
      ]
    },
    {
      "cell_type": "markdown",
      "metadata": {
        "id": "6ntMLoTXYCKi"
      },
      "source": [
        "\r\n",
        "\r\n",
        "---\r\n",
        "\r\n"
      ]
    },
    {
      "cell_type": "markdown",
      "metadata": {
        "id": "Fho2cS5cU5ZM"
      },
      "source": [
        "### **Apps and their categories which have device dependent sizes**"
      ]
    },
    {
      "cell_type": "code",
      "metadata": {
        "colab": {
          "base_uri": "https://localhost:8080/",
          "height": 754
        },
        "id": "VYVrg7CVUbNR",
        "outputId": "63333606-43a7-4ce9-fa09-702ff2c85979"
      },
      "source": [
        "df_size = df[df['Size'] == 'Varies with device']\r\n",
        "df_size"
      ],
      "execution_count": 119,
      "outputs": [
        {
          "output_type": "execute_result",
          "data": {
            "text/html": [
              "<div>\n",
              "<style scoped>\n",
              "    .dataframe tbody tr th:only-of-type {\n",
              "        vertical-align: middle;\n",
              "    }\n",
              "\n",
              "    .dataframe tbody tr th {\n",
              "        vertical-align: top;\n",
              "    }\n",
              "\n",
              "    .dataframe thead th {\n",
              "        text-align: right;\n",
              "    }\n",
              "</style>\n",
              "<table border=\"1\" class=\"dataframe\">\n",
              "  <thead>\n",
              "    <tr style=\"text-align: right;\">\n",
              "      <th></th>\n",
              "      <th>App</th>\n",
              "      <th>Category</th>\n",
              "      <th>Rating</th>\n",
              "      <th>Reviews</th>\n",
              "      <th>Size</th>\n",
              "      <th>Installs</th>\n",
              "      <th>Type</th>\n",
              "      <th>Price</th>\n",
              "      <th>Content Rating</th>\n",
              "      <th>Genres</th>\n",
              "      <th>Last Updated</th>\n",
              "      <th>Current Ver</th>\n",
              "      <th>Android Ver</th>\n",
              "      <th>year_updated</th>\n",
              "    </tr>\n",
              "  </thead>\n",
              "  <tbody>\n",
              "    <tr>\n",
              "      <th>37</th>\n",
              "      <td>Floor Plan Creator</td>\n",
              "      <td>art_and_design</td>\n",
              "      <td>4.1</td>\n",
              "      <td>36639</td>\n",
              "      <td>Varies with device</td>\n",
              "      <td>5000000</td>\n",
              "      <td>Free</td>\n",
              "      <td>0.0</td>\n",
              "      <td>Everyone</td>\n",
              "      <td>Art &amp; Design</td>\n",
              "      <td>July 14, 2018</td>\n",
              "      <td>Varies with device</td>\n",
              "      <td>2.3.3 and up</td>\n",
              "      <td>2018</td>\n",
              "    </tr>\n",
              "    <tr>\n",
              "      <th>42</th>\n",
              "      <td>Textgram - write on photos</td>\n",
              "      <td>art_and_design</td>\n",
              "      <td>4.4</td>\n",
              "      <td>295221</td>\n",
              "      <td>Varies with device</td>\n",
              "      <td>10000000</td>\n",
              "      <td>Free</td>\n",
              "      <td>0.0</td>\n",
              "      <td>Everyone</td>\n",
              "      <td>Art &amp; Design</td>\n",
              "      <td>July 30, 2018</td>\n",
              "      <td>Varies with device</td>\n",
              "      <td>Varies with device</td>\n",
              "      <td>2018</td>\n",
              "    </tr>\n",
              "    <tr>\n",
              "      <th>52</th>\n",
              "      <td>Used Cars and Trucks for Sale</td>\n",
              "      <td>auto_and_vehicles</td>\n",
              "      <td>4.6</td>\n",
              "      <td>17057</td>\n",
              "      <td>Varies with device</td>\n",
              "      <td>1000000</td>\n",
              "      <td>Free</td>\n",
              "      <td>0.0</td>\n",
              "      <td>Everyone</td>\n",
              "      <td>Auto &amp; Vehicles</td>\n",
              "      <td>July 30, 2018</td>\n",
              "      <td>Varies with device</td>\n",
              "      <td>Varies with device</td>\n",
              "      <td>2018</td>\n",
              "    </tr>\n",
              "    <tr>\n",
              "      <th>67</th>\n",
              "      <td>Ulysse Speedometer</td>\n",
              "      <td>auto_and_vehicles</td>\n",
              "      <td>4.3</td>\n",
              "      <td>40211</td>\n",
              "      <td>Varies with device</td>\n",
              "      <td>5000000</td>\n",
              "      <td>Free</td>\n",
              "      <td>0.0</td>\n",
              "      <td>Everyone</td>\n",
              "      <td>Auto &amp; Vehicles</td>\n",
              "      <td>July 30, 2018</td>\n",
              "      <td>Varies with device</td>\n",
              "      <td>Varies with device</td>\n",
              "      <td>2018</td>\n",
              "    </tr>\n",
              "    <tr>\n",
              "      <th>68</th>\n",
              "      <td>REPUVE</td>\n",
              "      <td>auto_and_vehicles</td>\n",
              "      <td>3.9</td>\n",
              "      <td>356</td>\n",
              "      <td>Varies with device</td>\n",
              "      <td>100000</td>\n",
              "      <td>Free</td>\n",
              "      <td>0.0</td>\n",
              "      <td>Everyone</td>\n",
              "      <td>Auto &amp; Vehicles</td>\n",
              "      <td>May 25, 2018</td>\n",
              "      <td>Varies with device</td>\n",
              "      <td>Varies with device</td>\n",
              "      <td>2018</td>\n",
              "    </tr>\n",
              "    <tr>\n",
              "      <th>...</th>\n",
              "      <td>...</td>\n",
              "      <td>...</td>\n",
              "      <td>...</td>\n",
              "      <td>...</td>\n",
              "      <td>...</td>\n",
              "      <td>...</td>\n",
              "      <td>...</td>\n",
              "      <td>...</td>\n",
              "      <td>...</td>\n",
              "      <td>...</td>\n",
              "      <td>...</td>\n",
              "      <td>...</td>\n",
              "      <td>...</td>\n",
              "      <td>...</td>\n",
              "    </tr>\n",
              "    <tr>\n",
              "      <th>10713</th>\n",
              "      <td>My Earthquake Alerts - US &amp; Worldwide Earthquakes</td>\n",
              "      <td>weather</td>\n",
              "      <td>4.4</td>\n",
              "      <td>3471</td>\n",
              "      <td>Varies with device</td>\n",
              "      <td>100000</td>\n",
              "      <td>Free</td>\n",
              "      <td>0.0</td>\n",
              "      <td>Everyone</td>\n",
              "      <td>Weather</td>\n",
              "      <td>July 24, 2018</td>\n",
              "      <td>Varies with device</td>\n",
              "      <td>Varies with device</td>\n",
              "      <td>2018</td>\n",
              "    </tr>\n",
              "    <tr>\n",
              "      <th>10725</th>\n",
              "      <td>Posta App</td>\n",
              "      <td>maps_and_navigation</td>\n",
              "      <td>3.6</td>\n",
              "      <td>8</td>\n",
              "      <td>Varies with device</td>\n",
              "      <td>1000</td>\n",
              "      <td>Free</td>\n",
              "      <td>0.0</td>\n",
              "      <td>Everyone</td>\n",
              "      <td>Maps &amp; Navigation</td>\n",
              "      <td>September 27, 2017</td>\n",
              "      <td>Varies with device</td>\n",
              "      <td>4.4 and up</td>\n",
              "      <td>2017</td>\n",
              "    </tr>\n",
              "    <tr>\n",
              "      <th>10765</th>\n",
              "      <td>Chat For Strangers - Video Chat</td>\n",
              "      <td>social</td>\n",
              "      <td>3.4</td>\n",
              "      <td>622</td>\n",
              "      <td>Varies with device</td>\n",
              "      <td>100000</td>\n",
              "      <td>Free</td>\n",
              "      <td>0.0</td>\n",
              "      <td>Mature 17+</td>\n",
              "      <td>Social</td>\n",
              "      <td>May 23, 2018</td>\n",
              "      <td>Varies with device</td>\n",
              "      <td>Varies with device</td>\n",
              "      <td>2018</td>\n",
              "    </tr>\n",
              "    <tr>\n",
              "      <th>10826</th>\n",
              "      <td>Frim: get new friends on local chat rooms</td>\n",
              "      <td>social</td>\n",
              "      <td>4.0</td>\n",
              "      <td>88486</td>\n",
              "      <td>Varies with device</td>\n",
              "      <td>5000000</td>\n",
              "      <td>Free</td>\n",
              "      <td>0.0</td>\n",
              "      <td>Mature 17+</td>\n",
              "      <td>Social</td>\n",
              "      <td>March 23, 2018</td>\n",
              "      <td>Varies with device</td>\n",
              "      <td>Varies with device</td>\n",
              "      <td>2018</td>\n",
              "    </tr>\n",
              "    <tr>\n",
              "      <th>10839</th>\n",
              "      <td>The SCP Foundation DB fr nn5n</td>\n",
              "      <td>books_and_reference</td>\n",
              "      <td>4.5</td>\n",
              "      <td>114</td>\n",
              "      <td>Varies with device</td>\n",
              "      <td>1000</td>\n",
              "      <td>Free</td>\n",
              "      <td>0.0</td>\n",
              "      <td>Mature 17+</td>\n",
              "      <td>Books &amp; Reference</td>\n",
              "      <td>January 19, 2015</td>\n",
              "      <td>Varies with device</td>\n",
              "      <td>Varies with device</td>\n",
              "      <td>2015</td>\n",
              "    </tr>\n",
              "  </tbody>\n",
              "</table>\n",
              "<p>1169 rows × 14 columns</p>\n",
              "</div>"
            ],
            "text/plain": [
              "                                                     App  ... year_updated\n",
              "37                                    Floor Plan Creator  ...         2018\n",
              "42                            Textgram - write on photos  ...         2018\n",
              "52                         Used Cars and Trucks for Sale  ...         2018\n",
              "67                                    Ulysse Speedometer  ...         2018\n",
              "68                                                REPUVE  ...         2018\n",
              "...                                                  ...  ...          ...\n",
              "10713  My Earthquake Alerts - US & Worldwide Earthquakes  ...         2018\n",
              "10725                                          Posta App  ...         2017\n",
              "10765                    Chat For Strangers - Video Chat  ...         2018\n",
              "10826          Frim: get new friends on local chat rooms  ...         2018\n",
              "10839                      The SCP Foundation DB fr nn5n  ...         2015\n",
              "\n",
              "[1169 rows x 14 columns]"
            ]
          },
          "metadata": {
            "tags": []
          },
          "execution_count": 119
        }
      ]
    },
    {
      "cell_type": "code",
      "metadata": {
        "colab": {
          "base_uri": "https://localhost:8080/",
          "height": 402
        },
        "id": "pe1qV2Q4U-hb",
        "outputId": "155db6cb-d082-45ba-f980-ad40052a6e1c"
      },
      "source": [
        "cat = df_size.Category.value_counts()[:10].to_dict().keys()\r\n",
        "count = df_size.Category.value_counts()[:10].to_dict().values()\r\n",
        "\r\n",
        "plt.title('Top 10 app categories with device dependent sizes')\r\n",
        "plt.xlabel('Categories')\r\n",
        "plt.ylabel('Total')\r\n",
        "plt.xticks(rotation = 60)\r\n",
        "plt.bar(cat, count)"
      ],
      "execution_count": 120,
      "outputs": [
        {
          "output_type": "execute_result",
          "data": {
            "text/plain": [
              "<BarContainer object of 10 artists>"
            ]
          },
          "metadata": {
            "tags": []
          },
          "execution_count": 120
        },
        {
          "output_type": "display_data",
          "data": {
            "image/png": "[encoded data removed]",
            "text/plain": [
              "<Figure size 432x288 with 1 Axes>"
            ]
          },
          "metadata": {
            "tags": [],
            "needs_background": "light"
          }
        }
      ]
    },
    {
      "cell_type": "markdown",
      "metadata": {
        "id": "P2X3NvI8YEKX"
      },
      "source": [
        "\r\n",
        "\r\n",
        "---\r\n",
        "\r\n"
      ]
    },
    {
      "cell_type": "markdown",
      "metadata": {
        "id": "8QngJPQyVYEE"
      },
      "source": [
        "### **Which genres have the highest rated apps?**"
      ]
    },
    {
      "cell_type": "code",
      "metadata": {
        "colab": {
          "base_uri": "https://localhost:8080/",
          "height": 356
        },
        "id": "vD_VXuBuVArJ",
        "outputId": "51e14404-1cfb-44f2-9d4c-a66541b23bad"
      },
      "source": [
        "df_rated = df[df['Rating'] >= 4.0]\r\n",
        "gen = df_rated.Genres.value_counts()[:10].to_dict().keys()\r\n",
        "count = df_rated.Genres.value_counts()[:10].to_dict().values()\r\n",
        "\r\n",
        "plt.title('Genres with highest rated apps', color = 'red')\r\n",
        "plt.xlabel('Genres', color= 'blue')\r\n",
        "plt.ylabel('Total')\r\n",
        "plt.xticks(rotation = 60)\r\n",
        "sns.lineplot(x = gen,\r\n",
        "             y = count);"
      ],
      "execution_count": 121,
      "outputs": [
        {
          "output_type": "display_data",
          "data": {
            "image/png": "[encoded data removed]",
            "text/plain": [
              "<Figure size 432x288 with 1 Axes>"
            ]
          },
          "metadata": {
            "tags": [],
            "needs_background": "light"
          }
        }
      ]
    },
    {
      "cell_type": "markdown",
      "metadata": {
        "id": "fAEYSJFXYFz7"
      },
      "source": [
        "\r\n",
        "\r\n",
        "---\r\n",
        "\r\n"
      ]
    },
    {
      "cell_type": "markdown",
      "metadata": {
        "id": "2YPVWkwuVpbA"
      },
      "source": [
        "### **Which apps have the highest number of  ratings by Teens?**"
      ]
    },
    {
      "cell_type": "code",
      "metadata": {
        "colab": {
          "base_uri": "https://localhost:8080/",
          "height": 343
        },
        "id": "mRzDjYliVe79",
        "outputId": "b3269e7f-ca11-4d0d-a1dd-603d20f51af8"
      },
      "source": [
        "df_teen = df[df['Content Rating']== 'Teen'][['App','Installs', 'Rating', 'Reviews']]\r\n",
        "df_teen.sort_values('Rating', ascending = False)[:10]"
      ],
      "execution_count": 122,
      "outputs": [
        {
          "output_type": "execute_result",
          "data": {
            "text/html": [
              "<div>\n",
              "<style scoped>\n",
              "    .dataframe tbody tr th:only-of-type {\n",
              "        vertical-align: middle;\n",
              "    }\n",
              "\n",
              "    .dataframe tbody tr th {\n",
              "        vertical-align: top;\n",
              "    }\n",
              "\n",
              "    .dataframe thead th {\n",
              "        text-align: right;\n",
              "    }\n",
              "</style>\n",
              "<table border=\"1\" class=\"dataframe\">\n",
              "  <thead>\n",
              "    <tr style=\"text-align: right;\">\n",
              "      <th></th>\n",
              "      <th>App</th>\n",
              "      <th>Installs</th>\n",
              "      <th>Rating</th>\n",
              "      <th>Reviews</th>\n",
              "    </tr>\n",
              "  </thead>\n",
              "  <tbody>\n",
              "    <tr>\n",
              "      <th>10820</th>\n",
              "      <td>Fr. Daoud Lamei</td>\n",
              "      <td>1000</td>\n",
              "      <td>5.0</td>\n",
              "      <td>22</td>\n",
              "    </tr>\n",
              "    <tr>\n",
              "      <th>9194</th>\n",
              "      <td>UP EB Bill Payment &amp; Details</td>\n",
              "      <td>50</td>\n",
              "      <td>5.0</td>\n",
              "      <td>3</td>\n",
              "    </tr>\n",
              "    <tr>\n",
              "      <th>633</th>\n",
              "      <td>Spine- The dating app</td>\n",
              "      <td>500</td>\n",
              "      <td>5.0</td>\n",
              "      <td>5</td>\n",
              "    </tr>\n",
              "    <tr>\n",
              "      <th>5828</th>\n",
              "      <td>A-Y Collection</td>\n",
              "      <td>100</td>\n",
              "      <td>5.0</td>\n",
              "      <td>2</td>\n",
              "    </tr>\n",
              "    <tr>\n",
              "      <th>5996</th>\n",
              "      <td>Railroad Radio Vancouver BC</td>\n",
              "      <td>100</td>\n",
              "      <td>5.0</td>\n",
              "      <td>4</td>\n",
              "    </tr>\n",
              "    <tr>\n",
              "      <th>10407</th>\n",
              "      <td>Jigsaw Volvo FH 16 Trucks</td>\n",
              "      <td>1000</td>\n",
              "      <td>5.0</td>\n",
              "      <td>5</td>\n",
              "    </tr>\n",
              "    <tr>\n",
              "      <th>6055</th>\n",
              "      <td>Movement BE</td>\n",
              "      <td>100</td>\n",
              "      <td>5.0</td>\n",
              "      <td>20</td>\n",
              "    </tr>\n",
              "    <tr>\n",
              "      <th>9512</th>\n",
              "      <td>Hum Ek Hain 2.02</td>\n",
              "      <td>10</td>\n",
              "      <td>5.0</td>\n",
              "      <td>2</td>\n",
              "    </tr>\n",
              "    <tr>\n",
              "      <th>9455</th>\n",
              "      <td>EJ messenger</td>\n",
              "      <td>10</td>\n",
              "      <td>5.0</td>\n",
              "      <td>1</td>\n",
              "    </tr>\n",
              "    <tr>\n",
              "      <th>9282</th>\n",
              "      <td>EF Events</td>\n",
              "      <td>100</td>\n",
              "      <td>5.0</td>\n",
              "      <td>7</td>\n",
              "    </tr>\n",
              "  </tbody>\n",
              "</table>\n",
              "</div>"
            ],
            "text/plain": [
              "                                App  Installs  Rating  Reviews\n",
              "10820               Fr. Daoud Lamei      1000     5.0       22\n",
              "9194   UP EB Bill Payment & Details        50     5.0        3\n",
              "633           Spine- The dating app       500     5.0        5\n",
              "5828                 A-Y Collection       100     5.0        2\n",
              "5996    Railroad Radio Vancouver BC       100     5.0        4\n",
              "10407     Jigsaw Volvo FH 16 Trucks      1000     5.0        5\n",
              "6055                    Movement BE       100     5.0       20\n",
              "9512               Hum Ek Hain 2.02        10     5.0        2\n",
              "9455                   EJ messenger        10     5.0        1\n",
              "9282                      EF Events       100     5.0        7"
            ]
          },
          "metadata": {
            "tags": []
          },
          "execution_count": 122
        }
      ]
    },
    {
      "cell_type": "code",
      "metadata": {
        "colab": {
          "base_uri": "https://localhost:8080/",
          "height": 295
        },
        "id": "OBb448pNVvhc",
        "outputId": "7116ca8f-2394-4c71-ff3a-bba9c6ee9377"
      },
      "source": [
        "ratings = df_teen.Rating.value_counts().to_dict().keys()\r\n",
        "count = df_teen.Rating.value_counts().to_dict().values()\r\n",
        "\r\n",
        "plt.title(\"Number of apps v/s Ratings\")\r\n",
        "plt.xlabel(\"Ratings\")\r\n",
        "plt.ylabel(\"Number of apps\")\r\n",
        "sns.lineplot(x = ratings,\r\n",
        "             y = count, color = 'red');"
      ],
      "execution_count": 123,
      "outputs": [
        {
          "output_type": "display_data",
          "data": {
            "image/png": "[encoded data removed]",
            "text/plain": [
              "<Figure size 432x288 with 1 Axes>"
            ]
          },
          "metadata": {
            "tags": [],
            "needs_background": "light"
          }
        }
      ]
    },
    {
      "cell_type": "markdown",
      "metadata": {
        "id": "T5_EfAhqYH9s"
      },
      "source": [
        "\r\n",
        "\r\n",
        "---\r\n",
        "\r\n",
        "---\r\n",
        "\r\n",
        "\r\n",
        "\r\n"
      ]
    },
    {
      "cell_type": "markdown",
      "metadata": {
        "id": "Ka_um9m2WeZy"
      },
      "source": [
        "## References\r\n",
        "* https://pandas.pydata.org/pandas-docs/stable/reference/api/pandas.DataFrame.html\r\n",
        "* https://numpy.org/doc/\r\n",
        "* https://matplotlib.org/3.3.3/contents.html\r\n",
        "* https://seaborn.pydata.org/\r\n"
      ]
    },
    {
      "cell_type": "markdown",
      "metadata": {
        "id": "_-w01bYaYK3n"
      },
      "source": [
        "\r\n",
        "\r\n",
        "---\r\n",
        "\r\n"
      ]
    },
    {
      "cell_type": "markdown",
      "metadata": {
        "id": "KgXWzHu0W78z"
      },
      "source": [
        "### If you have any views, feel free to mention them\r\n"
      ]
    },
    {
      "cell_type": "markdown",
      "metadata": {
        "id": "enxoXjHUXLOV"
      },
      "source": [
        "# *THANK* *YOU*\r\n",
        "\r\n",
        "---\r\n",
        "\r\n",
        "\r\n"
      ]
    },
    {
      "cell_type": "code",
      "metadata": {
        "id": "b73m3aCmVxrz"
      },
      "source": [
        ""
      ],
      "execution_count": 123,
      "outputs": []
    }
  ]
}